{
 "cells": [
  {
   "cell_type": "markdown",
   "metadata": {},
   "source": [
    "## Display bar chart of median salaries associated with technologies"
   ]
  },
  {
   "cell_type": "code",
   "execution_count": 44,
   "metadata": {},
   "outputs": [],
   "source": [
    "# Setup\n",
    "import json, nltk, pandas as pd\n",
    "import re\n",
    "from sklearn.feature_extraction.text import CountVectorizer\n",
    "import plotly.express as px\n",
    "import csv\n",
    "from nltk import ngrams\n",
    "import os\n",
    "import statistics\n",
    "\n",
    "# Taxonomy of technologies\n",
    "technologies = [\n",
    "    {'name': 'javascript', 'category': 'languages', 'subcategory' : 'javascript'},\n",
    "    {'name': 'html', 'category': 'languages', 'subcategory' : 'html_css'},\n",
    "    {'name': 'html5', 'category': 'languages', 'subcategory' : 'html_css'},\n",
    "    {'name': 'css', 'category': 'languages', 'subcategory' : 'html_css'},\n",
    "    {'name': 'css3', 'category': 'languages', 'subcategory' : 'html_css'},\n",
    "    {'name': 'html/css', 'category': 'languages', 'subcategory' : 'html_css'},\n",
    "    {'name': 'sql', 'category': 'languages', 'subcategory' : 'sql'},\n",
    "    {'name': 'python', 'category': 'languages', 'subcategory' : 'python'},\n",
    "    {'name': 'java', 'category': 'languages', 'subcategory' : 'java'},\n",
    "    {'name': 'bash', 'category': 'languages', 'subcategory' : 'bash'},\n",
    "    {'name': 'shell', 'category': 'languages', 'subcategory' : 'shell'},\n",
    "    {'name': 'powershell', 'category': 'languages', 'subcategory' : 'powershell'},\n",
    "    {'name': 'c#', 'category': 'languages', 'subcategory' : 'c#'},\n",
    "    {'name': 'php', 'category': 'languages', 'subcategory' : 'php'},\n",
    "    {'name': 'c++', 'category': 'languages', 'subcategory' : 'c++'},\n",
    "    {'name': 'typescript', 'category': 'languages', 'subcategory' : 'typescript'},\n",
    "    {'name': 'c', 'category': 'languages', 'subcategory' : 'c'},\n",
    "    {'name': 'ruby', 'category': 'languages', 'subcategory' : 'ruby'},\n",
    "    {'name': 'golang', 'category': 'languages', 'subcategory' : 'golang'},\n",
    "    {'name': 'assembly', 'category': 'languages', 'subcategory' : 'assembly'},\n",
    "    {'name': 'swift', 'category': 'languages', 'subcategory' : 'swift'},\n",
    "    {'name': 'kotlin', 'category': 'languages', 'subcategory' : 'kotlin'},\n",
    "    {'name': 'r', 'category': 'languages', 'subcategory' : 'r'},\n",
    "    {'name': 'vba', 'category': 'languages', 'subcategory' : 'vba'},\n",
    "    {'name': 'objective-c', 'category': 'languages', 'subcategory' : 'objective-c'},\n",
    "    {'name': 'objective c', 'category': 'languages', 'subcategory' : 'objective-c'},\n",
    "    {'name': 'scala', 'category': 'languages', 'subcategory' : 'scala'},\n",
    "    {'name': 'rust', 'category': 'languages', 'subcategory' : 'rust'},\n",
    "    {'name': 'dart', 'category': 'languages', 'subcategory' : 'dart'},\n",
    "    {'name': 'elixir', 'category': 'languages', 'subcategory' : 'elixir'},\n",
    "    {'name': 'clojure', 'category': 'languages', 'subcategory' : 'clojure'},\n",
    "    {'name': 'webassembly', 'category': 'languages', 'subcategory' : 'webassembly'},\n",
    "    {'name': 'web assembly', 'category': 'languages', 'subcategory' : 'webassembly'},\n",
    "    {'name': 'jquery', 'category': 'frameworks', 'subcategory' : 'jquery'},\n",
    "    {'name': 'react.js', 'category': 'frameworks', 'subcategory' : 'react'},\n",
    "    {'name': 'react', 'category': 'frameworks', 'subcategory' : 'react'},\n",
    "    {'name': 'angular', 'category': 'frameworks', 'subcategory' : 'angular'},\n",
    "    {'name': 'angular.js', 'category': 'frameworks', 'subcategory' : 'angular'},\n",
    "    {'name': 'asp.net', 'category': 'frameworks', 'subcategory' : 'asp.net'},\n",
    "    {'name': 'asp', 'category': 'frameworks', 'subcategory' : 'asp'},\n",
    "    {'name': 'express', 'category': 'frameworks', 'subcategory' : 'express'},\n",
    "    {'name': 'spring', 'category': 'frameworks', 'subcategory' : 'spring'},\n",
    "    {'name': 'vue.js', 'category': 'frameworks', 'subcategory' : 'vue.js'},\n",
    "    {'name': 'vue', 'category': 'frameworks', 'subcategory' : 'vue.js'},\n",
    "    {'name': 'django', 'category': 'frameworks', 'subcategory' : 'django'},\n",
    "    {'name': 'flask', 'category': 'frameworks', 'subcategory' : 'flask'},\n",
    "    {'name': 'laravel', 'category': 'frameworks', 'subcategory' : 'laravel'},\n",
    "    {'name': 'ruby on rails', 'category': 'frameworks', 'subcategory' : 'ruby on rails'},\n",
    "    {'name': 'rails', 'category': 'frameworks', 'subcategory' : 'ruby on rails'},\n",
    "    {'name': 'drupal', 'category': 'frameworks', 'subcategory' : 'drupal'},\n",
    "    {'name': 'linux', 'category': 'platforms', 'subcategory' : 'linux'},\n",
    "    {'name': 'windows', 'category': 'platforms', 'subcategory' : 'windows'},\n",
    "    {'name': 'docker', 'category': 'platforms', 'subcategory' : 'docker'},\n",
    "    {'name': 'android', 'category': 'platforms', 'subcategory' : 'android'},\n",
    "    {'name': 'aws', 'category': 'platforms', 'subcategory' : 'aws'},\n",
    "    {'name': 'macos', 'category': 'platforms', 'subcategory' : 'macos'},\n",
    "    {'name': 'slack', 'category': 'platforms', 'subcategory' : 'slack'},\n",
    "    {'name': 'raspberry pi', 'category': 'platforms', 'subcategory' : 'raspberry pi'},\n",
    "    {'name': 'wordpress', 'category': 'platforms', 'subcategory' : 'wordpress'},\n",
    "    {'name': 'ios', 'category': 'platforms', 'subcategory' : 'ios'},\n",
    "    {'name': 'google cloud', 'category': 'platforms', 'subcategory' : 'google cloud platform'},\n",
    "    {'name': 'google cloud platform', 'category': 'platforms', 'subcategory' : 'google cloud platform'},\n",
    "    {'name': 'gcs', 'category': 'platforms', 'subcategory' : 'google cloud platform'},\n",
    "    {'name': 'gcp', 'category': 'platforms', 'subcategory' : 'google cloud platform'},\n",
    "    {'name': 'azure', 'category': 'platforms', 'subcategory' : 'azure'},\n",
    "    {'name': 'arduino', 'category': 'platforms', 'subcategory' : 'arduino'},\n",
    "    {'name': 'heroku', 'category': 'platforms', 'subcategory' : 'heroku'},\n",
    "    {'name': 'kubernetes', 'category': 'platforms', 'subcategory' : 'kubernetes'},\n",
    "    {'name': 'ibm cloud', 'category': 'platforms', 'subcategory' : 'ibm cloud'},\n",
    "    {'name': 'watson', 'category': 'platforms', 'subcategory' : 'watson'},\n",
    "    {'name': 'mysql', 'category': 'databases', 'subcategory' : 'mysql'},\n",
    "    {'name': 'postgresql', 'category': 'databases', 'subcategory' : 'postgresql'},\n",
    "    {'name': 'postgressql', 'category': 'databases', 'subcategory' : 'postgresql'},\n",
    "    {'name': 'postgres', 'category': 'databases', 'subcategory' : 'postgresql'},\n",
    "    {'name': 'sql server', 'category': 'databases', 'subcategory' : 'sql server'},\n",
    "    {'name': 'sqlite', 'category': 'databases', 'subcategory' : 'sqlite'},\n",
    "    {'name': 'sqllite', 'category': 'databases', 'subcategory' : 'sqlite'},\n",
    "    {'name': 'sql lite', 'category': 'databases', 'subcategory' : 'sqlite'},\n",
    "    {'name': 'mongodb', 'category': 'databases', 'subcategory' : 'mongodb'},\n",
    "    {'name': 'redis', 'category': 'databases', 'subcategory' : 'redis'},\n",
    "    {'name': 'mariadb', 'category': 'databases', 'subcategory' : 'mariadb'},\n",
    "    {'name': 'oracle', 'category': 'databases', 'subcategory' : 'oracle'},\n",
    "    {'name': 'elasticsearch', 'category': 'databases', 'subcategory' : 'elasticsearch'},\n",
    "    {'name': 'firebase', 'category': 'databases', 'subcategory' : 'firebase'},\n",
    "    {'name': 'dynamodb', 'category': 'databases', 'subcategory' : 'dynamodb'},\n",
    "    {'name': 'cassandra', 'category': 'databases', 'subcategory' : 'cassandra'},\n",
    "    {'name': 'couchbase', 'category': 'databases', 'subcategory' : 'couchbase'},\n",
    "    {'name': 'node.js', 'category': 'others', 'subcategory' : 'node.js'},\n",
    "    {'name': 'node', 'category': 'others', 'subcategory' : 'node.js'},\n",
    "    {'name': '.net', 'category': 'others', 'subcategory' : '.net'},\n",
    "    {'name': '.net core', 'category': 'others', 'subcategory' : '.net core'},\n",
    "    {'name': 'pandas', 'category': 'others', 'subcategory' : 'pandas'},\n",
    "    {'name': 'unity 3d', 'category': 'others', 'subcategory' : 'unity 3d'},\n",
    "    {'name': 'react native', 'category': 'others', 'subcategory' : 'react native'},\n",
    "    {'name': 'tensorflow', 'category': 'others', 'subcategory' : 'tensorflow'},\n",
    "    {'name': 'ansible', 'category': 'others', 'subcategory' : 'ansible'},\n",
    "    {'name': 'cordova', 'category': 'others', 'subcategory' : 'cordova'},\n",
    "    {'name': 'xamarin', 'category': 'others', 'subcategory' : 'xamarin'},\n",
    "    {'name': 'apache spark', 'category': 'others', 'subcategory' : 'apache spark'},\n",
    "    {'name': 'hadoop', 'category': 'others', 'subcategory' : 'hadoop'},\n",
    "    {'name': 'unreal engine', 'category': 'others', 'subcategory' : 'unreal engine'},\n",
    "    {'name': 'flutter', 'category': 'others', 'subcategory' : 'flutter'},\n",
    "    {'name': 'torch/pytorch', 'category': 'others', 'subcategory' : 'torch/pytorch'},\n",
    "    {'name': 'torch', 'category': 'others', 'subcategory' : 'torch/pytorch'},\n",
    "    {'name': 'pytorch', 'category': 'others', 'subcategory' : 'torch/pytorch'},\n",
    "    {'name': 'puppet', 'category': 'others', 'subcategory' : 'puppet'},\n",
    "    {'name': 'chef', 'category': 'others', 'subcategory' : 'chef'},\n",
    "    {'name': 'cryengine', 'category': 'others', 'subcategory' : 'cryengine'}]\n",
    "\n",
    "# Store multi-word expressions in `technologies` in list `mwe` so significance of, e.g. 'ruby on rails' or 'google cloud platform' is retained\n",
    "mwe = []\n",
    "for technology in technologies:\n",
    "    text = nltk.regexp_tokenize(technology['name'], r'\\s', gaps = True)\n",
    "    if len(text) > 1:\n",
    "        mwe.append(list(nltk.ngrams(text, len(text)))[0])"
   ]
  },
  {
   "cell_type": "markdown",
   "metadata": {},
   "source": [
    "## Normalize"
   ]
  },
  {
   "cell_type": "code",
   "execution_count": 93,
   "metadata": {
    "tags": [
     "outputPrepend",
     "outputPrepend",
     "outputPrepend",
     "outputPrepend",
     "outputPrepend",
     "outputPrepend",
     "outputPrepend",
     "outputPrepend",
     "outputPrepend",
     "outputPrepend",
     "outputPrepend",
     "outputPrepend",
     "outputPrepend"
    ]
   },
   "outputs": [],
   "source": [
    "# Import job vacancy .json file to list of job vacancies called 'data'\n",
    "json_filename = '20200422_developer_London_0.json'\n",
    "with open (json_filename) as json_file:\n",
    "    data = json.load(json_file)\n",
    "    data = data['content']\n",
    "\n",
    "# List to store subcategories in for use later in median salary calc\n",
    "subcategories = []\n",
    "\n",
    "# Normalize / tokenize\n",
    "for jobad in data:\n",
    "    # Make description lowercase\n",
    "    jobad['description'] = jobad['description'].lower()\n",
    "\n",
    "    # TODO: [ ] Test regex using nltk.concordance() to find context for each technology.  Are there any other split chars?\n",
    "    # Tokenize by regexp to split words using [' ', '/', ',', '.'] chars as separators\n",
    "    tokenized_text = nltk.regexp_tokenize(jobad['description'], r'[\\s\\/,.]', gaps=True)\n",
    "\n",
    "    # Tokenize for multi-word expressions (mwe)\n",
    "    mwe_tokenizer = nltk.tokenize.MWETokenizer(mwe, separator=\" \")\n",
    "    jobad['description'] = mwe_tokenizer.tokenize(tokenized_text)\n",
    "\n",
    "    # Create list of technologies mentioned in jobad['description']\n",
    "    jobad['languages'] = []\n",
    "    jobad['frameworks'] = []\n",
    "    jobad['platforms'] = []\n",
    "    jobad['databases'] = []\n",
    "    jobad['others'] = []\n",
    "    jobad['description_tech'] = []\n",
    "\n",
    "    for technology in technologies:\n",
    "        for word in jobad['description']:\n",
    "            if word == technology['name'] and technology['subcategory'] not in jobad['description_tech']:\n",
    "                jobad['description_tech'].append(technology['subcategory'])\n",
    "                jobad[technology['category']].append(technology['subcategory'])\n",
    "                if word not in subcategories:\n",
    "                    subcategories.append(technology['subcategory'])\n",
    "\n",
    "    # Break out geocoded_location into 'latitude' and 'longitude'\n",
    "    jobad['latitude'] = jobad['geocoded_location']['latitude']\n",
    "    jobad['longitude'] = jobad['geocoded_location']['longitude']"
   ]
  },
  {
   "cell_type": "markdown",
   "metadata": {},
   "source": [
    "## Plot as bar charts"
   ]
  },
  {
   "cell_type": "code",
   "execution_count": 94,
   "metadata": {},
   "outputs": [],
   "source": [
    "node_list = []\n",
    "for column in subcategories:\n",
    "    node_list.append({\n",
    "        'category' : next(technology['category'] for technology in technologies if technology['subcategory'] == column), \n",
    "        'subcategory' : column,\n",
    "        'occurrences' : 0,\n",
    "        'median_salary' : 0,\n",
    "    })\n",
    "\n",
    "for node in node_list:\n",
    "    for jobad in data:\n",
    "        if node['subcategory'] in jobad['description_tech']:\n",
    "            node['occurrences'] += 1\n",
    "\n",
    "    # Remove nodes with no edges (technologies that aren't mentioned in job ads)\n",
    "    # if node['occurrences'] == 0:\n",
    "    #    node_list.remove(node)"
   ]
  },
  {
   "cell_type": "code",
   "execution_count": 95,
   "metadata": {},
   "outputs": [],
   "source": [
    "for node in node_list:\n",
    "    salaries = []\n",
    "    for jobad in data:\n",
    "        if node['subcategory'] in jobad['description_tech'] and jobad['mid_salary'] is not None:\n",
    "            salaries.append(jobad['mid_salary'])\n",
    "    if salaries:\n",
    "        # print(salaries)\n",
    "        node.update(median_salary = int(statistics.median(salaries)))\n",
    "    else:\n",
    "        node.update(median_salary = int(0))"
   ]
  },
  {
   "cell_type": "code",
   "execution_count": 158,
   "metadata": {},
   "outputs": [],
   "source": [
    "df2 = pd.DataFrame(node_list) # median_salaries = df2.loc[df2['median_salary'] != 0]\n",
    "df2['median_salary'] = df2['median_salary'].astype('int')\n",
    "df2 = df2[df2['median_salary'] > 0].drop_duplicates()"
   ]
  },
  {
   "cell_type": "code",
   "execution_count": null,
   "metadata": {},
   "outputs": [],
   "source": [
    "median_salaries = df2[df2['occurrences'] > 50]\n",
    "median_salaries = median_salaries.sort_values(by=['median_salary'], ascending=False).drop_duplicates()\n",
    "median_salaries = median_salaries[median_salaries['median_salary'] > 0]\n",
    "median_salaries = median_salaries[:10]"
   ]
  },
  {
   "cell_type": "code",
   "execution_count": 142,
   "metadata": {},
   "outputs": [
    {
     "output_type": "display_data",
     "data": {
      "application/vnd.plotly.v1+json": {
       "config": {
        "plotlyServerURL": "https://plot.ly"
       },
       "data": [
        {
         "alignmentgroup": "True",
         "hoverlabel": {
          "namelength": 0
         },
         "hovertemplate": "category=languages<br>median_salary=%{text}<br>subcategory=%{y}",
         "legendgroup": "languages",
         "marker": {
          "color": "#636efa"
         },
         "name": "languages",
         "offsetgroup": "languages",
         "orientation": "h",
         "showlegend": true,
         "text": [
          65000,
          47500,
          47500
         ],
         "textposition": "outside",
         "texttemplate": "£%{text:.2s}",
         "type": "bar",
         "x": [
          65000,
          47500,
          47500
         ],
         "xaxis": "x",
         "y": [
          "typescript",
          "sql",
          "c#"
         ],
         "yaxis": "y"
        },
        {
         "alignmentgroup": "True",
         "hoverlabel": {
          "namelength": 0
         },
         "hovertemplate": "category=platforms<br>median_salary=%{text}<br>subcategory=%{y}",
         "legendgroup": "platforms",
         "marker": {
          "color": "#EF553B"
         },
         "name": "platforms",
         "offsetgroup": "platforms",
         "orientation": "h",
         "showlegend": true,
         "text": [
          65000,
          50000,
          50000
         ],
         "textposition": "outside",
         "texttemplate": "£%{text:.2s}",
         "type": "bar",
         "x": [
          65000,
          50000,
          50000
         ],
         "xaxis": "x",
         "y": [
          "aws",
          "ios",
          "android"
         ],
         "yaxis": "y"
        },
        {
         "alignmentgroup": "True",
         "hoverlabel": {
          "namelength": 0
         },
         "hovertemplate": "category=frameworks<br>median_salary=%{text}<br>subcategory=%{y}",
         "legendgroup": "frameworks",
         "marker": {
          "color": "#00cc96"
         },
         "name": "frameworks",
         "offsetgroup": "frameworks",
         "orientation": "h",
         "showlegend": true,
         "text": [
          62500,
          55000
         ],
         "textposition": "outside",
         "texttemplate": "£%{text:.2s}",
         "type": "bar",
         "x": [
          62500,
          55000
         ],
         "xaxis": "x",
         "y": [
          "asp",
          "vue.js"
         ],
         "yaxis": "y"
        },
        {
         "alignmentgroup": "True",
         "hoverlabel": {
          "namelength": 0
         },
         "hovertemplate": "category=databases<br>median_salary=%{text}<br>subcategory=%{y}",
         "legendgroup": "databases",
         "marker": {
          "color": "#ab63fa"
         },
         "name": "databases",
         "offsetgroup": "databases",
         "orientation": "h",
         "showlegend": true,
         "text": [
          62500,
          40000
         ],
         "textposition": "outside",
         "texttemplate": "£%{text:.2s}",
         "type": "bar",
         "x": [
          62500,
          40000
         ],
         "xaxis": "x",
         "y": [
          "sql server",
          "postgresql"
         ],
         "yaxis": "y"
        }
       ],
       "layout": {
        "barmode": "relative",
        "height": 500,
        "legend": {
         "title": {
          "text": "category"
         },
         "tracegroupgap": 0
        },
        "margin": {
         "t": 60
        },
        "template": {
         "data": {
          "bar": [
           {
            "error_x": {
             "color": "#2a3f5f"
            },
            "error_y": {
             "color": "#2a3f5f"
            },
            "marker": {
             "line": {
              "color": "#E5ECF6",
              "width": 0.5
             }
            },
            "type": "bar"
           }
          ],
          "barpolar": [
           {
            "marker": {
             "line": {
              "color": "#E5ECF6",
              "width": 0.5
             }
            },
            "type": "barpolar"
           }
          ],
          "carpet": [
           {
            "aaxis": {
             "endlinecolor": "#2a3f5f",
             "gridcolor": "white",
             "linecolor": "white",
             "minorgridcolor": "white",
             "startlinecolor": "#2a3f5f"
            },
            "baxis": {
             "endlinecolor": "#2a3f5f",
             "gridcolor": "white",
             "linecolor": "white",
             "minorgridcolor": "white",
             "startlinecolor": "#2a3f5f"
            },
            "type": "carpet"
           }
          ],
          "choropleth": [
           {
            "colorbar": {
             "outlinewidth": 0,
             "ticks": ""
            },
            "type": "choropleth"
           }
          ],
          "contour": [
           {
            "colorbar": {
             "outlinewidth": 0,
             "ticks": ""
            },
            "colorscale": [
             [
              0,
              "#0d0887"
             ],
             [
              0.1111111111111111,
              "#46039f"
             ],
             [
              0.2222222222222222,
              "#7201a8"
             ],
             [
              0.3333333333333333,
              "#9c179e"
             ],
             [
              0.4444444444444444,
              "#bd3786"
             ],
             [
              0.5555555555555556,
              "#d8576b"
             ],
             [
              0.6666666666666666,
              "#ed7953"
             ],
             [
              0.7777777777777778,
              "#fb9f3a"
             ],
             [
              0.8888888888888888,
              "#fdca26"
             ],
             [
              1,
              "#f0f921"
             ]
            ],
            "type": "contour"
           }
          ],
          "contourcarpet": [
           {
            "colorbar": {
             "outlinewidth": 0,
             "ticks": ""
            },
            "type": "contourcarpet"
           }
          ],
          "heatmap": [
           {
            "colorbar": {
             "outlinewidth": 0,
             "ticks": ""
            },
            "colorscale": [
             [
              0,
              "#0d0887"
             ],
             [
              0.1111111111111111,
              "#46039f"
             ],
             [
              0.2222222222222222,
              "#7201a8"
             ],
             [
              0.3333333333333333,
              "#9c179e"
             ],
             [
              0.4444444444444444,
              "#bd3786"
             ],
             [
              0.5555555555555556,
              "#d8576b"
             ],
             [
              0.6666666666666666,
              "#ed7953"
             ],
             [
              0.7777777777777778,
              "#fb9f3a"
             ],
             [
              0.8888888888888888,
              "#fdca26"
             ],
             [
              1,
              "#f0f921"
             ]
            ],
            "type": "heatmap"
           }
          ],
          "heatmapgl": [
           {
            "colorbar": {
             "outlinewidth": 0,
             "ticks": ""
            },
            "colorscale": [
             [
              0,
              "#0d0887"
             ],
             [
              0.1111111111111111,
              "#46039f"
             ],
             [
              0.2222222222222222,
              "#7201a8"
             ],
             [
              0.3333333333333333,
              "#9c179e"
             ],
             [
              0.4444444444444444,
              "#bd3786"
             ],
             [
              0.5555555555555556,
              "#d8576b"
             ],
             [
              0.6666666666666666,
              "#ed7953"
             ],
             [
              0.7777777777777778,
              "#fb9f3a"
             ],
             [
              0.8888888888888888,
              "#fdca26"
             ],
             [
              1,
              "#f0f921"
             ]
            ],
            "type": "heatmapgl"
           }
          ],
          "histogram": [
           {
            "marker": {
             "colorbar": {
              "outlinewidth": 0,
              "ticks": ""
             }
            },
            "type": "histogram"
           }
          ],
          "histogram2d": [
           {
            "colorbar": {
             "outlinewidth": 0,
             "ticks": ""
            },
            "colorscale": [
             [
              0,
              "#0d0887"
             ],
             [
              0.1111111111111111,
              "#46039f"
             ],
             [
              0.2222222222222222,
              "#7201a8"
             ],
             [
              0.3333333333333333,
              "#9c179e"
             ],
             [
              0.4444444444444444,
              "#bd3786"
             ],
             [
              0.5555555555555556,
              "#d8576b"
             ],
             [
              0.6666666666666666,
              "#ed7953"
             ],
             [
              0.7777777777777778,
              "#fb9f3a"
             ],
             [
              0.8888888888888888,
              "#fdca26"
             ],
             [
              1,
              "#f0f921"
             ]
            ],
            "type": "histogram2d"
           }
          ],
          "histogram2dcontour": [
           {
            "colorbar": {
             "outlinewidth": 0,
             "ticks": ""
            },
            "colorscale": [
             [
              0,
              "#0d0887"
             ],
             [
              0.1111111111111111,
              "#46039f"
             ],
             [
              0.2222222222222222,
              "#7201a8"
             ],
             [
              0.3333333333333333,
              "#9c179e"
             ],
             [
              0.4444444444444444,
              "#bd3786"
             ],
             [
              0.5555555555555556,
              "#d8576b"
             ],
             [
              0.6666666666666666,
              "#ed7953"
             ],
             [
              0.7777777777777778,
              "#fb9f3a"
             ],
             [
              0.8888888888888888,
              "#fdca26"
             ],
             [
              1,
              "#f0f921"
             ]
            ],
            "type": "histogram2dcontour"
           }
          ],
          "mesh3d": [
           {
            "colorbar": {
             "outlinewidth": 0,
             "ticks": ""
            },
            "type": "mesh3d"
           }
          ],
          "parcoords": [
           {
            "line": {
             "colorbar": {
              "outlinewidth": 0,
              "ticks": ""
             }
            },
            "type": "parcoords"
           }
          ],
          "pie": [
           {
            "automargin": true,
            "type": "pie"
           }
          ],
          "scatter": [
           {
            "marker": {
             "colorbar": {
              "outlinewidth": 0,
              "ticks": ""
             }
            },
            "type": "scatter"
           }
          ],
          "scatter3d": [
           {
            "line": {
             "colorbar": {
              "outlinewidth": 0,
              "ticks": ""
             }
            },
            "marker": {
             "colorbar": {
              "outlinewidth": 0,
              "ticks": ""
             }
            },
            "type": "scatter3d"
           }
          ],
          "scattercarpet": [
           {
            "marker": {
             "colorbar": {
              "outlinewidth": 0,
              "ticks": ""
             }
            },
            "type": "scattercarpet"
           }
          ],
          "scattergeo": [
           {
            "marker": {
             "colorbar": {
              "outlinewidth": 0,
              "ticks": ""
             }
            },
            "type": "scattergeo"
           }
          ],
          "scattergl": [
           {
            "marker": {
             "colorbar": {
              "outlinewidth": 0,
              "ticks": ""
             }
            },
            "type": "scattergl"
           }
          ],
          "scattermapbox": [
           {
            "marker": {
             "colorbar": {
              "outlinewidth": 0,
              "ticks": ""
             }
            },
            "type": "scattermapbox"
           }
          ],
          "scatterpolar": [
           {
            "marker": {
             "colorbar": {
              "outlinewidth": 0,
              "ticks": ""
             }
            },
            "type": "scatterpolar"
           }
          ],
          "scatterpolargl": [
           {
            "marker": {
             "colorbar": {
              "outlinewidth": 0,
              "ticks": ""
             }
            },
            "type": "scatterpolargl"
           }
          ],
          "scatterternary": [
           {
            "marker": {
             "colorbar": {
              "outlinewidth": 0,
              "ticks": ""
             }
            },
            "type": "scatterternary"
           }
          ],
          "surface": [
           {
            "colorbar": {
             "outlinewidth": 0,
             "ticks": ""
            },
            "colorscale": [
             [
              0,
              "#0d0887"
             ],
             [
              0.1111111111111111,
              "#46039f"
             ],
             [
              0.2222222222222222,
              "#7201a8"
             ],
             [
              0.3333333333333333,
              "#9c179e"
             ],
             [
              0.4444444444444444,
              "#bd3786"
             ],
             [
              0.5555555555555556,
              "#d8576b"
             ],
             [
              0.6666666666666666,
              "#ed7953"
             ],
             [
              0.7777777777777778,
              "#fb9f3a"
             ],
             [
              0.8888888888888888,
              "#fdca26"
             ],
             [
              1,
              "#f0f921"
             ]
            ],
            "type": "surface"
           }
          ],
          "table": [
           {
            "cells": {
             "fill": {
              "color": "#EBF0F8"
             },
             "line": {
              "color": "white"
             }
            },
            "header": {
             "fill": {
              "color": "#C8D4E3"
             },
             "line": {
              "color": "white"
             }
            },
            "type": "table"
           }
          ]
         },
         "layout": {
          "annotationdefaults": {
           "arrowcolor": "#2a3f5f",
           "arrowhead": 0,
           "arrowwidth": 1
          },
          "coloraxis": {
           "colorbar": {
            "outlinewidth": 0,
            "ticks": ""
           }
          },
          "colorscale": {
           "diverging": [
            [
             0,
             "#8e0152"
            ],
            [
             0.1,
             "#c51b7d"
            ],
            [
             0.2,
             "#de77ae"
            ],
            [
             0.3,
             "#f1b6da"
            ],
            [
             0.4,
             "#fde0ef"
            ],
            [
             0.5,
             "#f7f7f7"
            ],
            [
             0.6,
             "#e6f5d0"
            ],
            [
             0.7,
             "#b8e186"
            ],
            [
             0.8,
             "#7fbc41"
            ],
            [
             0.9,
             "#4d9221"
            ],
            [
             1,
             "#276419"
            ]
           ],
           "sequential": [
            [
             0,
             "#0d0887"
            ],
            [
             0.1111111111111111,
             "#46039f"
            ],
            [
             0.2222222222222222,
             "#7201a8"
            ],
            [
             0.3333333333333333,
             "#9c179e"
            ],
            [
             0.4444444444444444,
             "#bd3786"
            ],
            [
             0.5555555555555556,
             "#d8576b"
            ],
            [
             0.6666666666666666,
             "#ed7953"
            ],
            [
             0.7777777777777778,
             "#fb9f3a"
            ],
            [
             0.8888888888888888,
             "#fdca26"
            ],
            [
             1,
             "#f0f921"
            ]
           ],
           "sequentialminus": [
            [
             0,
             "#0d0887"
            ],
            [
             0.1111111111111111,
             "#46039f"
            ],
            [
             0.2222222222222222,
             "#7201a8"
            ],
            [
             0.3333333333333333,
             "#9c179e"
            ],
            [
             0.4444444444444444,
             "#bd3786"
            ],
            [
             0.5555555555555556,
             "#d8576b"
            ],
            [
             0.6666666666666666,
             "#ed7953"
            ],
            [
             0.7777777777777778,
             "#fb9f3a"
            ],
            [
             0.8888888888888888,
             "#fdca26"
            ],
            [
             1,
             "#f0f921"
            ]
           ]
          },
          "colorway": [
           "#636efa",
           "#EF553B",
           "#00cc96",
           "#ab63fa",
           "#FFA15A",
           "#19d3f3",
           "#FF6692",
           "#B6E880",
           "#FF97FF",
           "#FECB52"
          ],
          "font": {
           "color": "#2a3f5f"
          },
          "geo": {
           "bgcolor": "white",
           "lakecolor": "white",
           "landcolor": "#E5ECF6",
           "showlakes": true,
           "showland": true,
           "subunitcolor": "white"
          },
          "hoverlabel": {
           "align": "left"
          },
          "hovermode": "closest",
          "mapbox": {
           "style": "light"
          },
          "paper_bgcolor": "white",
          "plot_bgcolor": "#E5ECF6",
          "polar": {
           "angularaxis": {
            "gridcolor": "white",
            "linecolor": "white",
            "ticks": ""
           },
           "bgcolor": "#E5ECF6",
           "radialaxis": {
            "gridcolor": "white",
            "linecolor": "white",
            "ticks": ""
           }
          },
          "scene": {
           "xaxis": {
            "backgroundcolor": "#E5ECF6",
            "gridcolor": "white",
            "gridwidth": 2,
            "linecolor": "white",
            "showbackground": true,
            "ticks": "",
            "zerolinecolor": "white"
           },
           "yaxis": {
            "backgroundcolor": "#E5ECF6",
            "gridcolor": "white",
            "gridwidth": 2,
            "linecolor": "white",
            "showbackground": true,
            "ticks": "",
            "zerolinecolor": "white"
           },
           "zaxis": {
            "backgroundcolor": "#E5ECF6",
            "gridcolor": "white",
            "gridwidth": 2,
            "linecolor": "white",
            "showbackground": true,
            "ticks": "",
            "zerolinecolor": "white"
           }
          },
          "shapedefaults": {
           "line": {
            "color": "#2a3f5f"
           }
          },
          "ternary": {
           "aaxis": {
            "gridcolor": "white",
            "linecolor": "white",
            "ticks": ""
           },
           "baxis": {
            "gridcolor": "white",
            "linecolor": "white",
            "ticks": ""
           },
           "bgcolor": "#E5ECF6",
           "caxis": {
            "gridcolor": "white",
            "linecolor": "white",
            "ticks": ""
           }
          },
          "title": {
           "x": 0.05
          },
          "xaxis": {
           "automargin": true,
           "gridcolor": "white",
           "linecolor": "white",
           "ticks": "",
           "title": {
            "standoff": 15
           },
           "zerolinecolor": "white",
           "zerolinewidth": 2
          },
          "yaxis": {
           "automargin": true,
           "gridcolor": "white",
           "linecolor": "white",
           "ticks": "",
           "title": {
            "standoff": 15
           },
           "zerolinecolor": "white",
           "zerolinewidth": 2
          }
         }
        },
        "width": 1000,
        "xaxis": {
         "anchor": "y",
         "domain": [
          0,
          1
         ],
         "title": {
          "text": "Median advertised salary, >50 advertisements"
         }
        },
        "yaxis": {
         "anchor": "x",
         "categoryorder": "total ascending",
         "domain": [
          0,
          1
         ],
         "title": {
          "text": "Technology"
         },
         "type": "category"
        }
       }
      }
     },
     "metadata": {}
    }
   ],
   "source": [
    "fig = px.bar(\n",
    "    median_salaries,\n",
    "    y=median_salaries['subcategory'],\n",
    "    x=median_salaries['median_salary'],\n",
    "    text='median_salary',\n",
    "    color='category',\n",
    "    orientation='h',\n",
    "    height=500,\n",
    "    width=1000\n",
    ")\n",
    "\n",
    "fig.update_traces(texttemplate='£%{text:.2s}', textposition='outside')\n",
    "\n",
    "fig.update_yaxes(\n",
    "    type='category',\n",
    "    matches=None,\n",
    "    title_text='Technology'\n",
    ")\n",
    "fig.update_xaxes(\n",
    "    title_text='Median advertised salary, >50 advertisements'\n",
    ")\n",
    "fig.update_layout(yaxis={'categoryorder':'total ascending'})\n",
    "\n",
    "\n",
    "# fig.update_layout(yaxis={'categoryorder':'total ascending'})\n",
    "# fig.for_each_annotation(lambda a: a.update(text=a.text.split(\"=\")[-1]))\n",
    "\n",
    "fig.show()"
   ]
  },
  {
   "cell_type": "code",
   "execution_count": 160,
   "metadata": {},
   "outputs": [
    {
     "output_type": "display_data",
     "data": {
      "application/vnd.plotly.v1+json": {
       "config": {
        "plotlyServerURL": "https://plot.ly"
       },
       "data": [
        {
         "hoverlabel": {
          "namelength": 0
         },
         "hovertemplate": "category=languages<br>occurrences=%{x}<br>median_salary=%{y}<br>subcategory=%{text}",
         "legendgroup": "languages",
         "marker": {
          "color": "#636efa",
          "symbol": "circle"
         },
         "mode": "markers+text",
         "name": "languages",
         "showlegend": true,
         "text": [
          "javascript",
          "html_css",
          "python",
          "java",
          "c",
          "shell",
          "ruby",
          "sql",
          "php",
          "c++",
          "typescript",
          "c#",
          "r",
          "golang",
          "powershell"
         ],
         "type": "scatter",
         "x": [
          2872,
          2195,
          1223,
          1526,
          387,
          473,
          321,
          441,
          1110,
          759,
          130,
          605,
          245,
          72,
          26
         ],
         "xaxis": "x",
         "y": [
          35000,
          35000,
          38018,
          38018,
          39853,
          38018,
          38018,
          47500,
          32500,
          34000,
          65000,
          47500,
          35000,
          35742,
          62500
         ],
         "yaxis": "y"
        },
        {
         "hoverlabel": {
          "namelength": 0
         },
         "hovertemplate": "category=frameworks<br>occurrences=%{x}<br>median_salary=%{y}<br>subcategory=%{text}",
         "legendgroup": "frameworks",
         "marker": {
          "color": "#EF553B",
          "symbol": "circle"
         },
         "mode": "markers+text",
         "name": "frameworks",
         "showlegend": true,
         "text": [
          "react",
          "jquery",
          "angular",
          "flask",
          "vue.js",
          "laravel",
          "ruby on rails",
          "asp",
          "express",
          "spring"
         ],
         "type": "scatter",
         "x": [
          1183,
          790,
          540,
          77,
          237,
          121,
          1,
          156,
          23,
          22
         ],
         "xaxis": "x",
         "y": [
          23499,
          23499,
          32500,
          40000,
          55000,
          35742,
          75000,
          62500,
          72500,
          40000
         ],
         "yaxis": "y"
        },
        {
         "hoverlabel": {
          "namelength": 0
         },
         "hovertemplate": "category=others<br>occurrences=%{x}<br>median_salary=%{y}<br>subcategory=%{text}",
         "legendgroup": "others",
         "marker": {
          "color": "#00cc96",
          "symbol": "circle"
         },
         "mode": "markers+text",
         "name": "others",
         "showlegend": true,
         "text": [
          "node.js",
          "unreal engine"
         ],
         "type": "scatter",
         "x": [
          1059,
          32
         ],
         "xaxis": "x",
         "y": [
          35000,
          34000
         ],
         "yaxis": "y"
        },
        {
         "hoverlabel": {
          "namelength": 0
         },
         "hovertemplate": "category=databases<br>occurrences=%{x}<br>median_salary=%{y}<br>subcategory=%{text}",
         "legendgroup": "databases",
         "marker": {
          "color": "#ab63fa",
          "symbol": "circle"
         },
         "mode": "markers+text",
         "name": "databases",
         "showlegend": true,
         "text": [
          "sql server",
          "mysql",
          "postgresql",
          "elasticsearch",
          "oracle"
         ],
         "type": "scatter",
         "x": [
          291,
          578,
          67,
          126,
          29
         ],
         "xaxis": "x",
         "y": [
          62500,
          32500,
          40000,
          40000,
          65000
         ],
         "yaxis": "y"
        },
        {
         "hoverlabel": {
          "namelength": 0
         },
         "hovertemplate": "category=platforms<br>occurrences=%{x}<br>median_salary=%{y}<br>subcategory=%{text}",
         "legendgroup": "platforms",
         "marker": {
          "color": "#FFA15A",
          "symbol": "circle"
         },
         "mode": "markers+text",
         "name": "platforms",
         "showlegend": true,
         "text": [
          "wordpress",
          "docker",
          "aws",
          "windows",
          "linux",
          "android",
          "ios",
          "google cloud platform",
          "kubernetes",
          "azure"
         ],
         "type": "scatter",
         "x": [
          356,
          315,
          190,
          292,
          148,
          430,
          386,
          125,
          14,
          26
         ],
         "xaxis": "x",
         "y": [
          22500,
          40000,
          65000,
          32500,
          40000,
          50000,
          50000,
          35742,
          40000,
          62500
         ],
         "yaxis": "y"
        }
       ],
       "layout": {
        "legend": {
         "title": {
          "text": "category"
         },
         "tracegroupgap": 0
        },
        "margin": {
         "t": 60
        },
        "template": {
         "data": {
          "bar": [
           {
            "error_x": {
             "color": "#2a3f5f"
            },
            "error_y": {
             "color": "#2a3f5f"
            },
            "marker": {
             "line": {
              "color": "#E5ECF6",
              "width": 0.5
             }
            },
            "type": "bar"
           }
          ],
          "barpolar": [
           {
            "marker": {
             "line": {
              "color": "#E5ECF6",
              "width": 0.5
             }
            },
            "type": "barpolar"
           }
          ],
          "carpet": [
           {
            "aaxis": {
             "endlinecolor": "#2a3f5f",
             "gridcolor": "white",
             "linecolor": "white",
             "minorgridcolor": "white",
             "startlinecolor": "#2a3f5f"
            },
            "baxis": {
             "endlinecolor": "#2a3f5f",
             "gridcolor": "white",
             "linecolor": "white",
             "minorgridcolor": "white",
             "startlinecolor": "#2a3f5f"
            },
            "type": "carpet"
           }
          ],
          "choropleth": [
           {
            "colorbar": {
             "outlinewidth": 0,
             "ticks": ""
            },
            "type": "choropleth"
           }
          ],
          "contour": [
           {
            "colorbar": {
             "outlinewidth": 0,
             "ticks": ""
            },
            "colorscale": [
             [
              0,
              "#0d0887"
             ],
             [
              0.1111111111111111,
              "#46039f"
             ],
             [
              0.2222222222222222,
              "#7201a8"
             ],
             [
              0.3333333333333333,
              "#9c179e"
             ],
             [
              0.4444444444444444,
              "#bd3786"
             ],
             [
              0.5555555555555556,
              "#d8576b"
             ],
             [
              0.6666666666666666,
              "#ed7953"
             ],
             [
              0.7777777777777778,
              "#fb9f3a"
             ],
             [
              0.8888888888888888,
              "#fdca26"
             ],
             [
              1,
              "#f0f921"
             ]
            ],
            "type": "contour"
           }
          ],
          "contourcarpet": [
           {
            "colorbar": {
             "outlinewidth": 0,
             "ticks": ""
            },
            "type": "contourcarpet"
           }
          ],
          "heatmap": [
           {
            "colorbar": {
             "outlinewidth": 0,
             "ticks": ""
            },
            "colorscale": [
             [
              0,
              "#0d0887"
             ],
             [
              0.1111111111111111,
              "#46039f"
             ],
             [
              0.2222222222222222,
              "#7201a8"
             ],
             [
              0.3333333333333333,
              "#9c179e"
             ],
             [
              0.4444444444444444,
              "#bd3786"
             ],
             [
              0.5555555555555556,
              "#d8576b"
             ],
             [
              0.6666666666666666,
              "#ed7953"
             ],
             [
              0.7777777777777778,
              "#fb9f3a"
             ],
             [
              0.8888888888888888,
              "#fdca26"
             ],
             [
              1,
              "#f0f921"
             ]
            ],
            "type": "heatmap"
           }
          ],
          "heatmapgl": [
           {
            "colorbar": {
             "outlinewidth": 0,
             "ticks": ""
            },
            "colorscale": [
             [
              0,
              "#0d0887"
             ],
             [
              0.1111111111111111,
              "#46039f"
             ],
             [
              0.2222222222222222,
              "#7201a8"
             ],
             [
              0.3333333333333333,
              "#9c179e"
             ],
             [
              0.4444444444444444,
              "#bd3786"
             ],
             [
              0.5555555555555556,
              "#d8576b"
             ],
             [
              0.6666666666666666,
              "#ed7953"
             ],
             [
              0.7777777777777778,
              "#fb9f3a"
             ],
             [
              0.8888888888888888,
              "#fdca26"
             ],
             [
              1,
              "#f0f921"
             ]
            ],
            "type": "heatmapgl"
           }
          ],
          "histogram": [
           {
            "marker": {
             "colorbar": {
              "outlinewidth": 0,
              "ticks": ""
             }
            },
            "type": "histogram"
           }
          ],
          "histogram2d": [
           {
            "colorbar": {
             "outlinewidth": 0,
             "ticks": ""
            },
            "colorscale": [
             [
              0,
              "#0d0887"
             ],
             [
              0.1111111111111111,
              "#46039f"
             ],
             [
              0.2222222222222222,
              "#7201a8"
             ],
             [
              0.3333333333333333,
              "#9c179e"
             ],
             [
              0.4444444444444444,
              "#bd3786"
             ],
             [
              0.5555555555555556,
              "#d8576b"
             ],
             [
              0.6666666666666666,
              "#ed7953"
             ],
             [
              0.7777777777777778,
              "#fb9f3a"
             ],
             [
              0.8888888888888888,
              "#fdca26"
             ],
             [
              1,
              "#f0f921"
             ]
            ],
            "type": "histogram2d"
           }
          ],
          "histogram2dcontour": [
           {
            "colorbar": {
             "outlinewidth": 0,
             "ticks": ""
            },
            "colorscale": [
             [
              0,
              "#0d0887"
             ],
             [
              0.1111111111111111,
              "#46039f"
             ],
             [
              0.2222222222222222,
              "#7201a8"
             ],
             [
              0.3333333333333333,
              "#9c179e"
             ],
             [
              0.4444444444444444,
              "#bd3786"
             ],
             [
              0.5555555555555556,
              "#d8576b"
             ],
             [
              0.6666666666666666,
              "#ed7953"
             ],
             [
              0.7777777777777778,
              "#fb9f3a"
             ],
             [
              0.8888888888888888,
              "#fdca26"
             ],
             [
              1,
              "#f0f921"
             ]
            ],
            "type": "histogram2dcontour"
           }
          ],
          "mesh3d": [
           {
            "colorbar": {
             "outlinewidth": 0,
             "ticks": ""
            },
            "type": "mesh3d"
           }
          ],
          "parcoords": [
           {
            "line": {
             "colorbar": {
              "outlinewidth": 0,
              "ticks": ""
             }
            },
            "type": "parcoords"
           }
          ],
          "pie": [
           {
            "automargin": true,
            "type": "pie"
           }
          ],
          "scatter": [
           {
            "marker": {
             "colorbar": {
              "outlinewidth": 0,
              "ticks": ""
             }
            },
            "type": "scatter"
           }
          ],
          "scatter3d": [
           {
            "line": {
             "colorbar": {
              "outlinewidth": 0,
              "ticks": ""
             }
            },
            "marker": {
             "colorbar": {
              "outlinewidth": 0,
              "ticks": ""
             }
            },
            "type": "scatter3d"
           }
          ],
          "scattercarpet": [
           {
            "marker": {
             "colorbar": {
              "outlinewidth": 0,
              "ticks": ""
             }
            },
            "type": "scattercarpet"
           }
          ],
          "scattergeo": [
           {
            "marker": {
             "colorbar": {
              "outlinewidth": 0,
              "ticks": ""
             }
            },
            "type": "scattergeo"
           }
          ],
          "scattergl": [
           {
            "marker": {
             "colorbar": {
              "outlinewidth": 0,
              "ticks": ""
             }
            },
            "type": "scattergl"
           }
          ],
          "scattermapbox": [
           {
            "marker": {
             "colorbar": {
              "outlinewidth": 0,
              "ticks": ""
             }
            },
            "type": "scattermapbox"
           }
          ],
          "scatterpolar": [
           {
            "marker": {
             "colorbar": {
              "outlinewidth": 0,
              "ticks": ""
             }
            },
            "type": "scatterpolar"
           }
          ],
          "scatterpolargl": [
           {
            "marker": {
             "colorbar": {
              "outlinewidth": 0,
              "ticks": ""
             }
            },
            "type": "scatterpolargl"
           }
          ],
          "scatterternary": [
           {
            "marker": {
             "colorbar": {
              "outlinewidth": 0,
              "ticks": ""
             }
            },
            "type": "scatterternary"
           }
          ],
          "surface": [
           {
            "colorbar": {
             "outlinewidth": 0,
             "ticks": ""
            },
            "colorscale": [
             [
              0,
              "#0d0887"
             ],
             [
              0.1111111111111111,
              "#46039f"
             ],
             [
              0.2222222222222222,
              "#7201a8"
             ],
             [
              0.3333333333333333,
              "#9c179e"
             ],
             [
              0.4444444444444444,
              "#bd3786"
             ],
             [
              0.5555555555555556,
              "#d8576b"
             ],
             [
              0.6666666666666666,
              "#ed7953"
             ],
             [
              0.7777777777777778,
              "#fb9f3a"
             ],
             [
              0.8888888888888888,
              "#fdca26"
             ],
             [
              1,
              "#f0f921"
             ]
            ],
            "type": "surface"
           }
          ],
          "table": [
           {
            "cells": {
             "fill": {
              "color": "#EBF0F8"
             },
             "line": {
              "color": "white"
             }
            },
            "header": {
             "fill": {
              "color": "#C8D4E3"
             },
             "line": {
              "color": "white"
             }
            },
            "type": "table"
           }
          ]
         },
         "layout": {
          "annotationdefaults": {
           "arrowcolor": "#2a3f5f",
           "arrowhead": 0,
           "arrowwidth": 1
          },
          "coloraxis": {
           "colorbar": {
            "outlinewidth": 0,
            "ticks": ""
           }
          },
          "colorscale": {
           "diverging": [
            [
             0,
             "#8e0152"
            ],
            [
             0.1,
             "#c51b7d"
            ],
            [
             0.2,
             "#de77ae"
            ],
            [
             0.3,
             "#f1b6da"
            ],
            [
             0.4,
             "#fde0ef"
            ],
            [
             0.5,
             "#f7f7f7"
            ],
            [
             0.6,
             "#e6f5d0"
            ],
            [
             0.7,
             "#b8e186"
            ],
            [
             0.8,
             "#7fbc41"
            ],
            [
             0.9,
             "#4d9221"
            ],
            [
             1,
             "#276419"
            ]
           ],
           "sequential": [
            [
             0,
             "#0d0887"
            ],
            [
             0.1111111111111111,
             "#46039f"
            ],
            [
             0.2222222222222222,
             "#7201a8"
            ],
            [
             0.3333333333333333,
             "#9c179e"
            ],
            [
             0.4444444444444444,
             "#bd3786"
            ],
            [
             0.5555555555555556,
             "#d8576b"
            ],
            [
             0.6666666666666666,
             "#ed7953"
            ],
            [
             0.7777777777777778,
             "#fb9f3a"
            ],
            [
             0.8888888888888888,
             "#fdca26"
            ],
            [
             1,
             "#f0f921"
            ]
           ],
           "sequentialminus": [
            [
             0,
             "#0d0887"
            ],
            [
             0.1111111111111111,
             "#46039f"
            ],
            [
             0.2222222222222222,
             "#7201a8"
            ],
            [
             0.3333333333333333,
             "#9c179e"
            ],
            [
             0.4444444444444444,
             "#bd3786"
            ],
            [
             0.5555555555555556,
             "#d8576b"
            ],
            [
             0.6666666666666666,
             "#ed7953"
            ],
            [
             0.7777777777777778,
             "#fb9f3a"
            ],
            [
             0.8888888888888888,
             "#fdca26"
            ],
            [
             1,
             "#f0f921"
            ]
           ]
          },
          "colorway": [
           "#636efa",
           "#EF553B",
           "#00cc96",
           "#ab63fa",
           "#FFA15A",
           "#19d3f3",
           "#FF6692",
           "#B6E880",
           "#FF97FF",
           "#FECB52"
          ],
          "font": {
           "color": "#2a3f5f"
          },
          "geo": {
           "bgcolor": "white",
           "lakecolor": "white",
           "landcolor": "#E5ECF6",
           "showlakes": true,
           "showland": true,
           "subunitcolor": "white"
          },
          "hoverlabel": {
           "align": "left"
          },
          "hovermode": "closest",
          "mapbox": {
           "style": "light"
          },
          "paper_bgcolor": "white",
          "plot_bgcolor": "#E5ECF6",
          "polar": {
           "angularaxis": {
            "gridcolor": "white",
            "linecolor": "white",
            "ticks": ""
           },
           "bgcolor": "#E5ECF6",
           "radialaxis": {
            "gridcolor": "white",
            "linecolor": "white",
            "ticks": ""
           }
          },
          "scene": {
           "xaxis": {
            "backgroundcolor": "#E5ECF6",
            "gridcolor": "white",
            "gridwidth": 2,
            "linecolor": "white",
            "showbackground": true,
            "ticks": "",
            "zerolinecolor": "white"
           },
           "yaxis": {
            "backgroundcolor": "#E5ECF6",
            "gridcolor": "white",
            "gridwidth": 2,
            "linecolor": "white",
            "showbackground": true,
            "ticks": "",
            "zerolinecolor": "white"
           },
           "zaxis": {
            "backgroundcolor": "#E5ECF6",
            "gridcolor": "white",
            "gridwidth": 2,
            "linecolor": "white",
            "showbackground": true,
            "ticks": "",
            "zerolinecolor": "white"
           }
          },
          "shapedefaults": {
           "line": {
            "color": "#2a3f5f"
           }
          },
          "ternary": {
           "aaxis": {
            "gridcolor": "white",
            "linecolor": "white",
            "ticks": ""
           },
           "baxis": {
            "gridcolor": "white",
            "linecolor": "white",
            "ticks": ""
           },
           "bgcolor": "#E5ECF6",
           "caxis": {
            "gridcolor": "white",
            "linecolor": "white",
            "ticks": ""
           }
          },
          "title": {
           "x": 0.05
          },
          "xaxis": {
           "automargin": true,
           "gridcolor": "white",
           "linecolor": "white",
           "ticks": "",
           "title": {
            "standoff": 15
           },
           "zerolinecolor": "white",
           "zerolinewidth": 2
          },
          "yaxis": {
           "automargin": true,
           "gridcolor": "white",
           "linecolor": "white",
           "ticks": "",
           "title": {
            "standoff": 15
           },
           "zerolinecolor": "white",
           "zerolinewidth": 2
          }
         }
        },
        "xaxis": {
         "anchor": "y",
         "domain": [
          0,
          1
         ],
         "title": {
          "text": "occurrences"
         }
        },
        "yaxis": {
         "anchor": "x",
         "domain": [
          0,
          1
         ],
         "title": {
          "text": "median_salary"
         }
        }
       }
      }
     },
     "metadata": {}
    }
   ],
   "source": [
    "# Plot scatter graph showing median salaries / # of advertisements\n",
    "fig = px.scatter(\n",
    "    df2, \n",
    "    x='occurrences', \n",
    "    y='median_salary',\n",
    "    text='subcategory',\n",
    "    color='category',\n",
    ")\n",
    "fig.show()"
   ]
  },
  {
   "cell_type": "code",
   "execution_count": 163,
   "metadata": {},
   "outputs": [],
   "source": [
    "df2.to_csv('scatter.csv')"
   ]
  },
  {
   "cell_type": "code",
   "execution_count": 164,
   "metadata": {},
   "outputs": [
    {
     "output_type": "execute_result",
     "data": {
      "text/plain": "    category subcategory  occurrences  median_salary\n0  languages  javascript         2872          35000",
      "text/html": "<div>\n<style scoped>\n    .dataframe tbody tr th:only-of-type {\n        vertical-align: middle;\n    }\n\n    .dataframe tbody tr th {\n        vertical-align: top;\n    }\n\n    .dataframe thead th {\n        text-align: right;\n    }\n</style>\n<table border=\"1\" class=\"dataframe\">\n  <thead>\n    <tr style=\"text-align: right;\">\n      <th></th>\n      <th>category</th>\n      <th>subcategory</th>\n      <th>occurrences</th>\n      <th>median_salary</th>\n    </tr>\n  </thead>\n  <tbody>\n    <tr>\n      <th>0</th>\n      <td>languages</td>\n      <td>javascript</td>\n      <td>2872</td>\n      <td>35000</td>\n    </tr>\n  </tbody>\n</table>\n</div>"
     },
     "metadata": {},
     "execution_count": 164
    }
   ],
   "source": [
    "df2[df2['subcategory'] == 'javascript']"
   ]
  },
  {
   "cell_type": "code",
   "execution_count": null,
   "metadata": {},
   "outputs": [],
   "source": []
  }
 ],
 "metadata": {
  "file_extension": ".py",
  "kernelspec": {
   "display_name": "Python 3.7.7 64-bit ('jobscrapy': venv)",
   "language": "python",
   "name": "python37764bitjobscrapyvenvedc711bb3f664cd497b90f4ac7f19b0c"
  },
  "language_info": {
   "codemirror_mode": {
    "name": "ipython",
    "version": 3
   },
   "file_extension": ".py",
   "mimetype": "text/x-python",
   "name": "python",
   "nbconvert_exporter": "python",
   "pygments_lexer": "ipython3",
   "version": "3.7.7-final"
  },
  "mimetype": "text/x-python",
  "name": "python",
  "npconvert_exporter": "python",
  "pygments_lexer": "ipython3",
  "version": 3
 },
 "nbformat": 4,
 "nbformat_minor": 2
}