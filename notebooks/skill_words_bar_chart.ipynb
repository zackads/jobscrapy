{
 "cells": [
  {
   "cell_type": "markdown",
   "metadata": {},
   "source": [
    "## Export .csv of job vacancy data for importing to Flourish as bubble map chart"
   ]
  },
  {
   "cell_type": "code",
   "execution_count": 2,
   "metadata": {},
   "outputs": [],
   "source": [
    "# Setup\n",
    "import json, nltk, pandas as pd\n",
    "import re\n",
    "from sklearn.feature_extraction.text import CountVectorizer\n",
    "import plotly.express as px\n",
    "import csv\n",
    "from nltk import ngrams\n",
    "import os\n",
    "\n",
    "# Taxonomy of technologies\n",
    "technologies = [\n",
    "    {'name': 'javascript', 'category': 'languages', 'subcategory' : 'javascript'},\n",
    "    {'name': 'html', 'category': 'languages', 'subcategory' : 'html_css'},\n",
    "    {'name': 'html5', 'category': 'languages', 'subcategory' : 'html_css'},\n",
    "    {'name': 'css', 'category': 'languages', 'subcategory' : 'html_css'},\n",
    "    {'name': 'css3', 'category': 'languages', 'subcategory' : 'html_css'},\n",
    "    {'name': 'html/css', 'category': 'languages', 'subcategory' : 'html_css'},\n",
    "    {'name': 'sql', 'category': 'languages', 'subcategory' : 'sql'},\n",
    "    {'name': 'python', 'category': 'languages', 'subcategory' : 'python'},\n",
    "    {'name': 'java', 'category': 'languages', 'subcategory' : 'java'},\n",
    "    {'name': 'bash', 'category': 'languages', 'subcategory' : 'bash'},\n",
    "    {'name': 'shell', 'category': 'languages', 'subcategory' : 'shell'},\n",
    "    {'name': 'powershell', 'category': 'languages', 'subcategory' : 'powershell'},\n",
    "    {'name': 'c#', 'category': 'languages', 'subcategory' : 'c#'},\n",
    "    {'name': 'php', 'category': 'languages', 'subcategory' : 'php'},\n",
    "    {'name': 'c++', 'category': 'languages', 'subcategory' : 'c++'},\n",
    "    {'name': 'typescript', 'category': 'languages', 'subcategory' : 'typescript'},\n",
    "    {'name': 'c', 'category': 'languages', 'subcategory' : 'c'},\n",
    "    {'name': 'ruby', 'category': 'languages', 'subcategory' : 'ruby'},\n",
    "    {'name': 'go', 'category': 'languages', 'subcategory' : 'go'},\n",
    "    {'name': 'assembly', 'category': 'languages', 'subcategory' : 'assembly'},\n",
    "    {'name': 'swift', 'category': 'languages', 'subcategory' : 'swift'},\n",
    "    {'name': 'kotlin', 'category': 'languages', 'subcategory' : 'kotlin'},\n",
    "    {'name': 'r', 'category': 'languages', 'subcategory' : 'r'},\n",
    "    {'name': 'vba', 'category': 'languages', 'subcategory' : 'vba'},\n",
    "    {'name': 'objective-c', 'category': 'languages', 'subcategory' : 'objective-c'},\n",
    "    {'name': 'objective c', 'category': 'languages', 'subcategory' : 'objective-c'},\n",
    "    {'name': 'scala', 'category': 'languages', 'subcategory' : 'scala'},\n",
    "    {'name': 'rust', 'category': 'languages', 'subcategory' : 'rust'},\n",
    "    {'name': 'dart', 'category': 'languages', 'subcategory' : 'dart'},\n",
    "    {'name': 'elixir', 'category': 'languages', 'subcategory' : 'elixir'},\n",
    "    {'name': 'clojure', 'category': 'languages', 'subcategory' : 'clojure'},\n",
    "    {'name': 'webassembly', 'category': 'languages', 'subcategory' : 'webassembly'},\n",
    "    {'name': 'web assembly', 'category': 'languages', 'subcategory' : 'webassembly'},\n",
    "    {'name': 'jquery', 'category': 'frameworks', 'subcategory' : 'jquery'},\n",
    "    {'name': 'react.js', 'category': 'frameworks', 'subcategory' : 'react'},\n",
    "    {'name': 'react', 'category': 'frameworks', 'subcategory' : 'react'},\n",
    "    {'name': 'angular', 'category': 'frameworks', 'subcategory' : 'angular'},\n",
    "    {'name': 'angular.js', 'category': 'frameworks', 'subcategory' : 'angular'},\n",
    "    {'name': 'asp.net', 'category': 'frameworks', 'subcategory' : 'asp.net'},\n",
    "    {'name': 'asp', 'category': 'frameworks', 'subcategory' : 'asp'},\n",
    "    {'name': 'express', 'category': 'frameworks', 'subcategory' : 'express'},\n",
    "    {'name': 'spring', 'category': 'frameworks', 'subcategory' : 'spring'},\n",
    "    {'name': 'vue.js', 'category': 'frameworks', 'subcategory' : 'vue.js'},\n",
    "    {'name': 'vue', 'category': 'frameworks', 'subcategory' : 'vue.js'},\n",
    "    {'name': 'django', 'category': 'frameworks', 'subcategory' : 'django'},\n",
    "    {'name': 'flask', 'category': 'frameworks', 'subcategory' : 'flask'},\n",
    "    {'name': 'laravel', 'category': 'frameworks', 'subcategory' : 'laravel'},\n",
    "    {'name': 'ruby on rails', 'category': 'frameworks', 'subcategory' : 'ruby on rails'},\n",
    "    {'name': 'rails', 'category': 'frameworks', 'subcategory' : 'ruby on rails'},\n",
    "    {'name': 'drupal', 'category': 'frameworks', 'subcategory' : 'drupal'},\n",
    "    {'name': 'linux', 'category': 'platforms', 'subcategory' : 'linux'},\n",
    "    {'name': 'windows', 'category': 'platforms', 'subcategory' : 'windows'},\n",
    "    {'name': 'docker', 'category': 'platforms', 'subcategory' : 'docker'},\n",
    "    {'name': 'android', 'category': 'platforms', 'subcategory' : 'android'},\n",
    "    {'name': 'aws', 'category': 'platforms', 'subcategory' : 'aws'},\n",
    "    {'name': 'macos', 'category': 'platforms', 'subcategory' : 'macos'},\n",
    "    {'name': 'slack', 'category': 'platforms', 'subcategory' : 'slack'},\n",
    "    {'name': 'raspberry pi', 'category': 'platforms', 'subcategory' : 'raspberry pi'},\n",
    "    {'name': 'wordpress', 'category': 'platforms', 'subcategory' : 'wordpress'},\n",
    "    {'name': 'ios', 'category': 'platforms', 'subcategory' : 'ios'},\n",
    "    {'name': 'google cloud', 'category': 'platforms', 'subcategory' : 'google cloud platform'},\n",
    "    {'name': 'google cloud platform', 'category': 'platforms', 'subcategory' : 'google cloud platform'},\n",
    "    {'name': 'gcs', 'category': 'platforms', 'subcategory' : 'google cloud platform'},\n",
    "    {'name': 'gcp', 'category': 'platforms', 'subcategory' : 'google cloud platform'},\n",
    "    {'name': 'azure', 'category': 'platforms', 'subcategory' : 'azure'},\n",
    "    {'name': 'arduino', 'category': 'platforms', 'subcategory' : 'arduino'},\n",
    "    {'name': 'heroku', 'category': 'platforms', 'subcategory' : 'heroku'},\n",
    "    {'name': 'kubernetes', 'category': 'platforms', 'subcategory' : 'kubernetes'},\n",
    "    {'name': 'ibm cloud', 'category': 'platforms', 'subcategory' : 'ibm cloud'},\n",
    "    {'name': 'watson', 'category': 'platforms', 'subcategory' : 'watson'},\n",
    "    {'name': 'mysql', 'category': 'databases', 'subcategory' : 'mysql'},\n",
    "    {'name': 'postgresql', 'category': 'databases', 'subcategory' : 'postgresql'},\n",
    "    {'name': 'postgressql', 'category': 'databases', 'subcategory' : 'postgresql'},\n",
    "    {'name': 'postgres', 'category': 'databases', 'subcategory' : 'postgresql'},\n",
    "    {'name': 'sql server', 'category': 'databases', 'subcategory' : 'sql server'},\n",
    "    {'name': 'sqlite', 'category': 'databases', 'subcategory' : 'sqlite'},\n",
    "    {'name': 'sqllite', 'category': 'databases', 'subcategory' : 'sqlite'},\n",
    "    {'name': 'sql lite', 'category': 'databases', 'subcategory' : 'sqlite'},\n",
    "    {'name': 'mongodb', 'category': 'databases', 'subcategory' : 'mongodb'},\n",
    "    {'name': 'redis', 'category': 'databases', 'subcategory' : 'redis'},\n",
    "    {'name': 'mariadb', 'category': 'databases', 'subcategory' : 'mariadb'},\n",
    "    {'name': 'oracle', 'category': 'databases', 'subcategory' : 'oracle'},\n",
    "    {'name': 'elasticsearch', 'category': 'databases', 'subcategory' : 'elasticsearch'},\n",
    "    {'name': 'firebase', 'category': 'databases', 'subcategory' : 'firebase'},\n",
    "    {'name': 'dynamodb', 'category': 'databases', 'subcategory' : 'dynamodb'},\n",
    "    {'name': 'cassandra', 'category': 'databases', 'subcategory' : 'cassandra'},\n",
    "    {'name': 'couchbase', 'category': 'databases', 'subcategory' : 'couchbase'},\n",
    "    {'name': 'node.js', 'category': 'others', 'subcategory' : 'node.js'},\n",
    "    {'name': 'node', 'category': 'others', 'subcategory' : 'node.js'},\n",
    "    {'name': '.net', 'category': 'others', 'subcategory' : '.net'},\n",
    "    {'name': '.net core', 'category': 'others', 'subcategory' : '.net core'},\n",
    "    {'name': 'pandas', 'category': 'others', 'subcategory' : 'pandas'},\n",
    "    {'name': 'unity 3d', 'category': 'others', 'subcategory' : 'unity 3d'},\n",
    "    {'name': 'react native', 'category': 'others', 'subcategory' : 'react native'},\n",
    "    {'name': 'tensorflow', 'category': 'others', 'subcategory' : 'tensorflow'},\n",
    "    {'name': 'ansible', 'category': 'others', 'subcategory' : 'ansible'},\n",
    "    {'name': 'cordova', 'category': 'others', 'subcategory' : 'cordova'},\n",
    "    {'name': 'xamarin', 'category': 'others', 'subcategory' : 'xamarin'},\n",
    "    {'name': 'apache spark', 'category': 'others', 'subcategory' : 'apache spark'},\n",
    "    {'name': 'hadoop', 'category': 'others', 'subcategory' : 'hadoop'},\n",
    "    {'name': 'unreal engine', 'category': 'others', 'subcategory' : 'unreal engine'},\n",
    "    {'name': 'flutter', 'category': 'others', 'subcategory' : 'flutter'},\n",
    "    {'name': 'torch/pytorch', 'category': 'others', 'subcategory' : 'torch/pytorch'},\n",
    "    {'name': 'torch', 'category': 'others', 'subcategory' : 'torch/pytorch'},\n",
    "    {'name': 'pytorch', 'category': 'others', 'subcategory' : 'torch/pytorch'},\n",
    "    {'name': 'puppet', 'category': 'others', 'subcategory' : 'puppet'},\n",
    "    {'name': 'chef', 'category': 'others', 'subcategory' : 'chef'},\n",
    "    {'name': 'cryengine', 'category': 'others', 'subcategory' : 'cryengine'}]\n",
    "\n",
    "# Store multi-word expressions in `technologies` in list `mwe` so significance of, e.g. 'ruby on rails' or 'google cloud platform' is retained\n",
    "mwe = []\n",
    "for technology in technologies:\n",
    "    text = nltk.regexp_tokenize(technology['name'], r'\\s', gaps = True)\n",
    "    if len(text) > 1:\n",
    "        mwe.append(list(nltk.ngrams(text, len(text)))[0])"
   ]
  },
  {
   "cell_type": "markdown",
   "metadata": {},
   "source": [
    "## Normalize"
   ]
  },
  {
   "cell_type": "code",
   "execution_count": 3,
   "metadata": {
    "tags": [
     "outputPrepend",
     "outputPrepend",
     "outputPrepend",
     "outputPrepend",
     "outputPrepend",
     "outputPrepend",
     "outputPrepend",
     "outputPrepend",
     "outputPrepend",
     "outputPrepend",
     "outputPrepend",
     "outputPrepend",
     "outputPrepend"
    ]
   },
   "outputs": [],
   "source": [
    "# Import job vacancy .json file to list of job vacancies called 'data'\n",
    "json_filename = '20200422_developer_London_0.json'\n",
    "with open (json_filename) as json_file:\n",
    "    data = json.load(json_file)\n",
    "    data = data['content']\n",
    "\n",
    "# Normalize / tokenize\n",
    "for jobad in data:\n",
    "    # Make description lowercase\n",
    "    jobad['description'] = jobad['description'].lower()\n",
    "\n",
    "    # TODO: [ ] Test regex using nltk.concordance() to find context for each technology.  Are there any other split chars?\n",
    "    # Tokenize by regexp to split words using [' ', '/', ',', '.'] chars as separators\n",
    "    tokenized_text = nltk.regexp_tokenize(jobad['description'], r'[\\s\\/,.]', gaps=True)\n",
    "\n",
    "    # Tokenize for multi-word expressions (mwe)\n",
    "    mwe_tokenizer = nltk.tokenize.MWETokenizer(mwe, separator=\" \")\n",
    "    jobad['description'] = mwe_tokenizer.tokenize(tokenized_text)\n",
    "\n",
    "    # Create list of technologies mentioned in jobad['description']\n",
    "    jobad['languages'] = []\n",
    "    jobad['frameworks'] = []\n",
    "    jobad['platforms'] = []\n",
    "    jobad['databases'] = []\n",
    "    jobad['others'] = []\n",
    "    jobad['description_tech'] = []\n",
    "    subcategories = []\n",
    "\n",
    "    for technology in technologies:\n",
    "        for word in jobad['description']:\n",
    "            if word == technology['name'] and technology['subcategory'] not in jobad['description_tech']:\n",
    "                jobad['description_tech'].append(technology['subcategory'])\n",
    "                jobad[technology['category']].append(technology['subcategory'])\n",
    "\n",
    "    # Break out geocoded_location into 'latitude' and 'longitude'\n",
    "    jobad['latitude'] = jobad['geocoded_location']['latitude']\n",
    "    jobad['longitude'] = jobad['geocoded_location']['longitude']"
   ]
  },
  {
   "cell_type": "code",
   "execution_count": 4,
   "metadata": {},
   "outputs": [
    {
     "output_type": "execute_result",
     "data": {
      "text/plain": "                              title  \\\n0               AngularJS Developer   \n1            Frontend Wed Developer   \n2  CPRD Research Software Developer   \n3                     PHP Developer   \n4       Software development intern   \n\n                                             company raw_location  \\\n0                                     Seen by Indeed       London   \n1                                              STECH       London   \n2  Medicines and Healthcare products Regulatory A...       London   \n3                                     Seen by Indeed       London   \n4                                           Softwire       London   \n\n         raw_salary  min_salary  max_salary  mid_salary  \\\n0              None         NaN         NaN         NaN   \n1              None         NaN         NaN         NaN   \n2  \\n£39,853 a year     39853.0     39853.0     39853.0   \n3              None         NaN         NaN         NaN   \n4  \\n£2,300 a month         NaN         NaN         NaN   \n\n                                          detail_url  \\\n0  http://www.indeed.co.uk/pagead/clk?mo=r&ad=-6N...   \n1  http://www.indeed.co.uk/pagead/clk?mo=r&ad=-6N...   \n2  http://www.indeed.co.uk/pagead/clk?mo=r&ad=-6N...   \n3  http://www.indeed.co.uk/pagead/clk?mo=r&ad=-6N...   \n4  http://www.indeed.co.uk/rc/clk?jk=be399fdf1a2c...   \n\n                                         description search_term_what  \\\n0  [with, one, application, you, can, be, conside...        developer   \n1  [we, have, an, exciting, opportunity, for, a, ...        developer   \n2  [we, would, like, to, reassure, all, applicant...        developer   \n3  [with, one, application, you, can, be, conside...        developer   \n4  [overview, we, are, looking, for, bright, enth...        developer   \n\n  search_term_where                                  geocoded_location  \\\n0            London  {'latitude': 51.5073509, 'longitude': -0.1277583}   \n1            London    {'latitude': 51.512693, 'longitude': -0.141529}   \n2            London  {'latitude': 51.5044695, 'longitude': -0.0218721}   \n3            London  {'latitude': 51.5073509, 'longitude': -0.1277583}   \n4            London  {'latitude': 51.5539998, 'longitude': -0.1445351}   \n\n                languages frameworks platforms databases others  \\\n0                    [go]         []        []        []     []   \n1  [javascript, html_css]    [react]        []        []     []   \n2       [python, java, c]         []        []        []     []   \n3                    [go]         []        []        []     []   \n4                    [go]         []        []        []     []   \n\n                description_tech   latitude  longitude  \n0                           [go]  51.507351  -0.127758  \n1  [javascript, html_css, react]  51.512693  -0.141529  \n2              [python, java, c]  51.504469  -0.021872  \n3                           [go]  51.507351  -0.127758  \n4                           [go]  51.554000  -0.144535  ",
      "text/html": "<div>\n<style scoped>\n    .dataframe tbody tr th:only-of-type {\n        vertical-align: middle;\n    }\n\n    .dataframe tbody tr th {\n        vertical-align: top;\n    }\n\n    .dataframe thead th {\n        text-align: right;\n    }\n</style>\n<table border=\"1\" class=\"dataframe\">\n  <thead>\n    <tr style=\"text-align: right;\">\n      <th></th>\n      <th>title</th>\n      <th>company</th>\n      <th>raw_location</th>\n      <th>raw_salary</th>\n      <th>min_salary</th>\n      <th>max_salary</th>\n      <th>mid_salary</th>\n      <th>detail_url</th>\n      <th>description</th>\n      <th>search_term_what</th>\n      <th>search_term_where</th>\n      <th>geocoded_location</th>\n      <th>languages</th>\n      <th>frameworks</th>\n      <th>platforms</th>\n      <th>databases</th>\n      <th>others</th>\n      <th>description_tech</th>\n      <th>latitude</th>\n      <th>longitude</th>\n    </tr>\n  </thead>\n  <tbody>\n    <tr>\n      <th>0</th>\n      <td>AngularJS Developer</td>\n      <td>Seen by Indeed</td>\n      <td>London</td>\n      <td>None</td>\n      <td>NaN</td>\n      <td>NaN</td>\n      <td>NaN</td>\n      <td>http://www.indeed.co.uk/pagead/clk?mo=r&amp;ad=-6N...</td>\n      <td>[with, one, application, you, can, be, conside...</td>\n      <td>developer</td>\n      <td>London</td>\n      <td>{'latitude': 51.5073509, 'longitude': -0.1277583}</td>\n      <td>[go]</td>\n      <td>[]</td>\n      <td>[]</td>\n      <td>[]</td>\n      <td>[]</td>\n      <td>[go]</td>\n      <td>51.507351</td>\n      <td>-0.127758</td>\n    </tr>\n    <tr>\n      <th>1</th>\n      <td>Frontend Wed Developer</td>\n      <td>STECH</td>\n      <td>London</td>\n      <td>None</td>\n      <td>NaN</td>\n      <td>NaN</td>\n      <td>NaN</td>\n      <td>http://www.indeed.co.uk/pagead/clk?mo=r&amp;ad=-6N...</td>\n      <td>[we, have, an, exciting, opportunity, for, a, ...</td>\n      <td>developer</td>\n      <td>London</td>\n      <td>{'latitude': 51.512693, 'longitude': -0.141529}</td>\n      <td>[javascript, html_css]</td>\n      <td>[react]</td>\n      <td>[]</td>\n      <td>[]</td>\n      <td>[]</td>\n      <td>[javascript, html_css, react]</td>\n      <td>51.512693</td>\n      <td>-0.141529</td>\n    </tr>\n    <tr>\n      <th>2</th>\n      <td>CPRD Research Software Developer</td>\n      <td>Medicines and Healthcare products Regulatory A...</td>\n      <td>London</td>\n      <td>\\n£39,853 a year</td>\n      <td>39853.0</td>\n      <td>39853.0</td>\n      <td>39853.0</td>\n      <td>http://www.indeed.co.uk/pagead/clk?mo=r&amp;ad=-6N...</td>\n      <td>[we, would, like, to, reassure, all, applicant...</td>\n      <td>developer</td>\n      <td>London</td>\n      <td>{'latitude': 51.5044695, 'longitude': -0.0218721}</td>\n      <td>[python, java, c]</td>\n      <td>[]</td>\n      <td>[]</td>\n      <td>[]</td>\n      <td>[]</td>\n      <td>[python, java, c]</td>\n      <td>51.504469</td>\n      <td>-0.021872</td>\n    </tr>\n    <tr>\n      <th>3</th>\n      <td>PHP Developer</td>\n      <td>Seen by Indeed</td>\n      <td>London</td>\n      <td>None</td>\n      <td>NaN</td>\n      <td>NaN</td>\n      <td>NaN</td>\n      <td>http://www.indeed.co.uk/pagead/clk?mo=r&amp;ad=-6N...</td>\n      <td>[with, one, application, you, can, be, conside...</td>\n      <td>developer</td>\n      <td>London</td>\n      <td>{'latitude': 51.5073509, 'longitude': -0.1277583}</td>\n      <td>[go]</td>\n      <td>[]</td>\n      <td>[]</td>\n      <td>[]</td>\n      <td>[]</td>\n      <td>[go]</td>\n      <td>51.507351</td>\n      <td>-0.127758</td>\n    </tr>\n    <tr>\n      <th>4</th>\n      <td>Software development intern</td>\n      <td>Softwire</td>\n      <td>London</td>\n      <td>\\n£2,300 a month</td>\n      <td>NaN</td>\n      <td>NaN</td>\n      <td>NaN</td>\n      <td>http://www.indeed.co.uk/rc/clk?jk=be399fdf1a2c...</td>\n      <td>[overview, we, are, looking, for, bright, enth...</td>\n      <td>developer</td>\n      <td>London</td>\n      <td>{'latitude': 51.5539998, 'longitude': -0.1445351}</td>\n      <td>[go]</td>\n      <td>[]</td>\n      <td>[]</td>\n      <td>[]</td>\n      <td>[]</td>\n      <td>[go]</td>\n      <td>51.554000</td>\n      <td>-0.144535</td>\n    </tr>\n  </tbody>\n</table>\n</div>"
     },
     "metadata": {},
     "execution_count": 4
    }
   ],
   "source": [
    "df = pd.DataFrame(data)\n",
    "df.head()"
   ]
  },
  {
   "cell_type": "markdown",
   "metadata": {},
   "source": [
    "## Plot as bar charts"
   ]
  },
  {
   "cell_type": "code",
   "execution_count": 15,
   "metadata": {},
   "outputs": [
    {
     "output_type": "display_data",
     "data": {
      "application/vnd.plotly.v1+json": {
       "config": {
        "plotlyServerURL": "https://plot.ly"
       },
       "data": [
        {
         "alignmentgroup": "True",
         "hoverlabel": {
          "namelength": 0
         },
         "hovertemplate": "technology_category=languages<br>count=%{text}<br>technology=%{y}",
         "legendgroup": "languages",
         "marker": {
          "color": "#636efa"
         },
         "name": "languages",
         "offsetgroup": "languages",
         "orientation": "h",
         "showlegend": true,
         "text": [
          2872,
          2195,
          1534,
          1526,
          1223,
          1110,
          759
         ],
         "textposition": "auto",
         "type": "bar",
         "x": [
          2872,
          2195,
          1534,
          1526,
          1223,
          1110,
          759
         ],
         "xaxis": "x",
         "y": [
          "javascript",
          "html_css",
          "go",
          "java",
          "python",
          "php",
          "c++"
         ],
         "yaxis": "y"
        },
        {
         "alignmentgroup": "True",
         "hoverlabel": {
          "namelength": 0
         },
         "hovertemplate": "technology_category=frameworks<br>count=%{text}<br>technology=%{y}",
         "legendgroup": "frameworks",
         "marker": {
          "color": "#EF553B"
         },
         "name": "frameworks",
         "offsetgroup": "frameworks",
         "orientation": "h",
         "showlegend": true,
         "text": [
          1183,
          790
         ],
         "textposition": "auto",
         "type": "bar",
         "x": [
          1183,
          790
         ],
         "xaxis": "x",
         "y": [
          "react",
          "jquery"
         ],
         "yaxis": "y"
        },
        {
         "alignmentgroup": "True",
         "hoverlabel": {
          "namelength": 0
         },
         "hovertemplate": "technology_category=others<br>count=%{text}<br>technology=%{y}",
         "legendgroup": "others",
         "marker": {
          "color": "#00cc96"
         },
         "name": "others",
         "offsetgroup": "others",
         "orientation": "h",
         "showlegend": true,
         "text": [
          1059
         ],
         "textposition": "auto",
         "type": "bar",
         "x": [
          1059
         ],
         "xaxis": "x",
         "y": [
          "node.js"
         ],
         "yaxis": "y"
        }
       ],
       "layout": {
        "barmode": "relative",
        "height": 500,
        "legend": {
         "title": {
          "text": "technology_category"
         },
         "tracegroupgap": 0
        },
        "template": {
         "data": {
          "bar": [
           {
            "error_x": {
             "color": "#2a3f5f"
            },
            "error_y": {
             "color": "#2a3f5f"
            },
            "marker": {
             "line": {
              "color": "#E5ECF6",
              "width": 0.5
             }
            },
            "type": "bar"
           }
          ],
          "barpolar": [
           {
            "marker": {
             "line": {
              "color": "#E5ECF6",
              "width": 0.5
             }
            },
            "type": "barpolar"
           }
          ],
          "carpet": [
           {
            "aaxis": {
             "endlinecolor": "#2a3f5f",
             "gridcolor": "white",
             "linecolor": "white",
             "minorgridcolor": "white",
             "startlinecolor": "#2a3f5f"
            },
            "baxis": {
             "endlinecolor": "#2a3f5f",
             "gridcolor": "white",
             "linecolor": "white",
             "minorgridcolor": "white",
             "startlinecolor": "#2a3f5f"
            },
            "type": "carpet"
           }
          ],
          "choropleth": [
           {
            "colorbar": {
             "outlinewidth": 0,
             "ticks": ""
            },
            "type": "choropleth"
           }
          ],
          "contour": [
           {
            "colorbar": {
             "outlinewidth": 0,
             "ticks": ""
            },
            "colorscale": [
             [
              0,
              "#0d0887"
             ],
             [
              0.1111111111111111,
              "#46039f"
             ],
             [
              0.2222222222222222,
              "#7201a8"
             ],
             [
              0.3333333333333333,
              "#9c179e"
             ],
             [
              0.4444444444444444,
              "#bd3786"
             ],
             [
              0.5555555555555556,
              "#d8576b"
             ],
             [
              0.6666666666666666,
              "#ed7953"
             ],
             [
              0.7777777777777778,
              "#fb9f3a"
             ],
             [
              0.8888888888888888,
              "#fdca26"
             ],
             [
              1,
              "#f0f921"
             ]
            ],
            "type": "contour"
           }
          ],
          "contourcarpet": [
           {
            "colorbar": {
             "outlinewidth": 0,
             "ticks": ""
            },
            "type": "contourcarpet"
           }
          ],
          "heatmap": [
           {
            "colorbar": {
             "outlinewidth": 0,
             "ticks": ""
            },
            "colorscale": [
             [
              0,
              "#0d0887"
             ],
             [
              0.1111111111111111,
              "#46039f"
             ],
             [
              0.2222222222222222,
              "#7201a8"
             ],
             [
              0.3333333333333333,
              "#9c179e"
             ],
             [
              0.4444444444444444,
              "#bd3786"
             ],
             [
              0.5555555555555556,
              "#d8576b"
             ],
             [
              0.6666666666666666,
              "#ed7953"
             ],
             [
              0.7777777777777778,
              "#fb9f3a"
             ],
             [
              0.8888888888888888,
              "#fdca26"
             ],
             [
              1,
              "#f0f921"
             ]
            ],
            "type": "heatmap"
           }
          ],
          "heatmapgl": [
           {
            "colorbar": {
             "outlinewidth": 0,
             "ticks": ""
            },
            "colorscale": [
             [
              0,
              "#0d0887"
             ],
             [
              0.1111111111111111,
              "#46039f"
             ],
             [
              0.2222222222222222,
              "#7201a8"
             ],
             [
              0.3333333333333333,
              "#9c179e"
             ],
             [
              0.4444444444444444,
              "#bd3786"
             ],
             [
              0.5555555555555556,
              "#d8576b"
             ],
             [
              0.6666666666666666,
              "#ed7953"
             ],
             [
              0.7777777777777778,
              "#fb9f3a"
             ],
             [
              0.8888888888888888,
              "#fdca26"
             ],
             [
              1,
              "#f0f921"
             ]
            ],
            "type": "heatmapgl"
           }
          ],
          "histogram": [
           {
            "marker": {
             "colorbar": {
              "outlinewidth": 0,
              "ticks": ""
             }
            },
            "type": "histogram"
           }
          ],
          "histogram2d": [
           {
            "colorbar": {
             "outlinewidth": 0,
             "ticks": ""
            },
            "colorscale": [
             [
              0,
              "#0d0887"
             ],
             [
              0.1111111111111111,
              "#46039f"
             ],
             [
              0.2222222222222222,
              "#7201a8"
             ],
             [
              0.3333333333333333,
              "#9c179e"
             ],
             [
              0.4444444444444444,
              "#bd3786"
             ],
             [
              0.5555555555555556,
              "#d8576b"
             ],
             [
              0.6666666666666666,
              "#ed7953"
             ],
             [
              0.7777777777777778,
              "#fb9f3a"
             ],
             [
              0.8888888888888888,
              "#fdca26"
             ],
             [
              1,
              "#f0f921"
             ]
            ],
            "type": "histogram2d"
           }
          ],
          "histogram2dcontour": [
           {
            "colorbar": {
             "outlinewidth": 0,
             "ticks": ""
            },
            "colorscale": [
             [
              0,
              "#0d0887"
             ],
             [
              0.1111111111111111,
              "#46039f"
             ],
             [
              0.2222222222222222,
              "#7201a8"
             ],
             [
              0.3333333333333333,
              "#9c179e"
             ],
             [
              0.4444444444444444,
              "#bd3786"
             ],
             [
              0.5555555555555556,
              "#d8576b"
             ],
             [
              0.6666666666666666,
              "#ed7953"
             ],
             [
              0.7777777777777778,
              "#fb9f3a"
             ],
             [
              0.8888888888888888,
              "#fdca26"
             ],
             [
              1,
              "#f0f921"
             ]
            ],
            "type": "histogram2dcontour"
           }
          ],
          "mesh3d": [
           {
            "colorbar": {
             "outlinewidth": 0,
             "ticks": ""
            },
            "type": "mesh3d"
           }
          ],
          "parcoords": [
           {
            "line": {
             "colorbar": {
              "outlinewidth": 0,
              "ticks": ""
             }
            },
            "type": "parcoords"
           }
          ],
          "pie": [
           {
            "automargin": true,
            "type": "pie"
           }
          ],
          "scatter": [
           {
            "marker": {
             "colorbar": {
              "outlinewidth": 0,
              "ticks": ""
             }
            },
            "type": "scatter"
           }
          ],
          "scatter3d": [
           {
            "line": {
             "colorbar": {
              "outlinewidth": 0,
              "ticks": ""
             }
            },
            "marker": {
             "colorbar": {
              "outlinewidth": 0,
              "ticks": ""
             }
            },
            "type": "scatter3d"
           }
          ],
          "scattercarpet": [
           {
            "marker": {
             "colorbar": {
              "outlinewidth": 0,
              "ticks": ""
             }
            },
            "type": "scattercarpet"
           }
          ],
          "scattergeo": [
           {
            "marker": {
             "colorbar": {
              "outlinewidth": 0,
              "ticks": ""
             }
            },
            "type": "scattergeo"
           }
          ],
          "scattergl": [
           {
            "marker": {
             "colorbar": {
              "outlinewidth": 0,
              "ticks": ""
             }
            },
            "type": "scattergl"
           }
          ],
          "scattermapbox": [
           {
            "marker": {
             "colorbar": {
              "outlinewidth": 0,
              "ticks": ""
             }
            },
            "type": "scattermapbox"
           }
          ],
          "scatterpolar": [
           {
            "marker": {
             "colorbar": {
              "outlinewidth": 0,
              "ticks": ""
             }
            },
            "type": "scatterpolar"
           }
          ],
          "scatterpolargl": [
           {
            "marker": {
             "colorbar": {
              "outlinewidth": 0,
              "ticks": ""
             }
            },
            "type": "scatterpolargl"
           }
          ],
          "scatterternary": [
           {
            "marker": {
             "colorbar": {
              "outlinewidth": 0,
              "ticks": ""
             }
            },
            "type": "scatterternary"
           }
          ],
          "surface": [
           {
            "colorbar": {
             "outlinewidth": 0,
             "ticks": ""
            },
            "colorscale": [
             [
              0,
              "#0d0887"
             ],
             [
              0.1111111111111111,
              "#46039f"
             ],
             [
              0.2222222222222222,
              "#7201a8"
             ],
             [
              0.3333333333333333,
              "#9c179e"
             ],
             [
              0.4444444444444444,
              "#bd3786"
             ],
             [
              0.5555555555555556,
              "#d8576b"
             ],
             [
              0.6666666666666666,
              "#ed7953"
             ],
             [
              0.7777777777777778,
              "#fb9f3a"
             ],
             [
              0.8888888888888888,
              "#fdca26"
             ],
             [
              1,
              "#f0f921"
             ]
            ],
            "type": "surface"
           }
          ],
          "table": [
           {
            "cells": {
             "fill": {
              "color": "#EBF0F8"
             },
             "line": {
              "color": "white"
             }
            },
            "header": {
             "fill": {
              "color": "#C8D4E3"
             },
             "line": {
              "color": "white"
             }
            },
            "type": "table"
           }
          ]
         },
         "layout": {
          "annotationdefaults": {
           "arrowcolor": "#2a3f5f",
           "arrowhead": 0,
           "arrowwidth": 1
          },
          "coloraxis": {
           "colorbar": {
            "outlinewidth": 0,
            "ticks": ""
           }
          },
          "colorscale": {
           "diverging": [
            [
             0,
             "#8e0152"
            ],
            [
             0.1,
             "#c51b7d"
            ],
            [
             0.2,
             "#de77ae"
            ],
            [
             0.3,
             "#f1b6da"
            ],
            [
             0.4,
             "#fde0ef"
            ],
            [
             0.5,
             "#f7f7f7"
            ],
            [
             0.6,
             "#e6f5d0"
            ],
            [
             0.7,
             "#b8e186"
            ],
            [
             0.8,
             "#7fbc41"
            ],
            [
             0.9,
             "#4d9221"
            ],
            [
             1,
             "#276419"
            ]
           ],
           "sequential": [
            [
             0,
             "#0d0887"
            ],
            [
             0.1111111111111111,
             "#46039f"
            ],
            [
             0.2222222222222222,
             "#7201a8"
            ],
            [
             0.3333333333333333,
             "#9c179e"
            ],
            [
             0.4444444444444444,
             "#bd3786"
            ],
            [
             0.5555555555555556,
             "#d8576b"
            ],
            [
             0.6666666666666666,
             "#ed7953"
            ],
            [
             0.7777777777777778,
             "#fb9f3a"
            ],
            [
             0.8888888888888888,
             "#fdca26"
            ],
            [
             1,
             "#f0f921"
            ]
           ],
           "sequentialminus": [
            [
             0,
             "#0d0887"
            ],
            [
             0.1111111111111111,
             "#46039f"
            ],
            [
             0.2222222222222222,
             "#7201a8"
            ],
            [
             0.3333333333333333,
             "#9c179e"
            ],
            [
             0.4444444444444444,
             "#bd3786"
            ],
            [
             0.5555555555555556,
             "#d8576b"
            ],
            [
             0.6666666666666666,
             "#ed7953"
            ],
            [
             0.7777777777777778,
             "#fb9f3a"
            ],
            [
             0.8888888888888888,
             "#fdca26"
            ],
            [
             1,
             "#f0f921"
            ]
           ]
          },
          "colorway": [
           "#636efa",
           "#EF553B",
           "#00cc96",
           "#ab63fa",
           "#FFA15A",
           "#19d3f3",
           "#FF6692",
           "#B6E880",
           "#FF97FF",
           "#FECB52"
          ],
          "font": {
           "color": "#2a3f5f"
          },
          "geo": {
           "bgcolor": "white",
           "lakecolor": "white",
           "landcolor": "#E5ECF6",
           "showlakes": true,
           "showland": true,
           "subunitcolor": "white"
          },
          "hoverlabel": {
           "align": "left"
          },
          "hovermode": "closest",
          "mapbox": {
           "style": "light"
          },
          "paper_bgcolor": "white",
          "plot_bgcolor": "#E5ECF6",
          "polar": {
           "angularaxis": {
            "gridcolor": "white",
            "linecolor": "white",
            "ticks": ""
           },
           "bgcolor": "#E5ECF6",
           "radialaxis": {
            "gridcolor": "white",
            "linecolor": "white",
            "ticks": ""
           }
          },
          "scene": {
           "xaxis": {
            "backgroundcolor": "#E5ECF6",
            "gridcolor": "white",
            "gridwidth": 2,
            "linecolor": "white",
            "showbackground": true,
            "ticks": "",
            "zerolinecolor": "white"
           },
           "yaxis": {
            "backgroundcolor": "#E5ECF6",
            "gridcolor": "white",
            "gridwidth": 2,
            "linecolor": "white",
            "showbackground": true,
            "ticks": "",
            "zerolinecolor": "white"
           },
           "zaxis": {
            "backgroundcolor": "#E5ECF6",
            "gridcolor": "white",
            "gridwidth": 2,
            "linecolor": "white",
            "showbackground": true,
            "ticks": "",
            "zerolinecolor": "white"
           }
          },
          "shapedefaults": {
           "line": {
            "color": "#2a3f5f"
           }
          },
          "ternary": {
           "aaxis": {
            "gridcolor": "white",
            "linecolor": "white",
            "ticks": ""
           },
           "baxis": {
            "gridcolor": "white",
            "linecolor": "white",
            "ticks": ""
           },
           "bgcolor": "#E5ECF6",
           "caxis": {
            "gridcolor": "white",
            "linecolor": "white",
            "ticks": ""
           }
          },
          "title": {
           "x": 0.05
          },
          "xaxis": {
           "automargin": true,
           "gridcolor": "white",
           "linecolor": "white",
           "ticks": "",
           "title": {
            "standoff": 15
           },
           "zerolinecolor": "white",
           "zerolinewidth": 2
          },
          "yaxis": {
           "automargin": true,
           "gridcolor": "white",
           "linecolor": "white",
           "ticks": "",
           "title": {
            "standoff": 15
           },
           "zerolinecolor": "white",
           "zerolinewidth": 2
          }
         }
        },
        "title": {
         "text": "Top 10 technologies mentioned"
        },
        "xaxis": {
         "anchor": "y",
         "domain": [
          0,
          1
         ],
         "title": {
          "text": "Number of vacancies mentioning"
         }
        },
        "yaxis": {
         "anchor": "x",
         "categoryorder": "total ascending",
         "domain": [
          0,
          1
         ],
         "title": {
          "text": "Technology"
         },
         "type": "category"
        }
       }
      }
     },
     "metadata": {}
    }
   ],
   "source": [
    "tech_counts = df[['languages', 'frameworks', 'platforms', 'databases', 'others']]\n",
    "tech_counts = (tech_counts.stack()\n",
    "                .explode()\\\n",
    "                .reset_index()\n",
    "                .groupby([\"level_1\", 0])\n",
    "                .count()\n",
    "                .reset_index())\n",
    "tech_counts.columns = \"technology_category\", \"technology\", \"count\"\n",
    "tech_counts = tech_counts.sort_values('count', ascending=False)\n",
    "tech_counts = tech_counts.iloc[:10]\n",
    "\n",
    "fig = px.bar(\n",
    "    tech_counts,\n",
    "    y='technology',\n",
    "    x='count',\n",
    "    text='count',\n",
    "    orientation='h',\n",
    "    color='technology_category',\n",
    "    height=500,\n",
    "    title='Top 10 technologies mentioned'\n",
    ")\n",
    "fig.update_yaxes(\n",
    "    type='category',\n",
    "    matches=None,\n",
    "    title_text='Technology'\n",
    ")\n",
    "fig.update_xaxes(\n",
    "    title_text='Number of vacancies mentioning'\n",
    ")\n",
    "fig.update_layout(yaxis={'categoryorder':'total ascending'})\n",
    "fig.for_each_annotation(lambda a: a.update(text=a.text.split(\"=\")[-1]))\n",
    "\n",
    "fig.show()"
   ]
  },
  {
   "cell_type": "code",
   "execution_count": 23,
   "metadata": {},
   "outputs": [
    {
     "output_type": "display_data",
     "data": {
      "application/vnd.plotly.v1+json": {
       "config": {
        "plotlyServerURL": "https://plot.ly"
       },
       "data": [
        {
         "alignmentgroup": "True",
         "hoverlabel": {
          "namelength": 0
         },
         "hovertemplate": "technology_category=languages<br>count=%{text}<br>technology=%{y}",
         "legendgroup": "languages",
         "marker": {
          "color": "#636efa"
         },
         "name": "languages",
         "offsetgroup": "languages",
         "orientation": "h",
         "showlegend": true,
         "text": [
          2872,
          2195,
          1534,
          1526,
          1223,
          1110,
          759,
          615,
          605,
          504,
          473,
          441,
          387,
          321,
          245,
          150,
          130,
          26,
          6,
          6
         ],
         "textposition": "auto",
         "type": "bar",
         "x": [
          2872,
          2195,
          1534,
          1526,
          1223,
          1110,
          759,
          615,
          605,
          504,
          473,
          441,
          387,
          321,
          245,
          150,
          130,
          26,
          6,
          6
         ],
         "xaxis": "x",
         "y": [
          "javascript",
          "html_css",
          "go",
          "java",
          "python",
          "php",
          "c++",
          "swift",
          "c#",
          "objective-c",
          "shell",
          "sql",
          "c",
          "ruby",
          "r",
          "vba",
          "typescript",
          "powershell",
          "rust",
          "assembly"
         ],
         "yaxis": "y"
        },
        {
         "alignmentgroup": "True",
         "hoverlabel": {
          "namelength": 0
         },
         "hovertemplate": "technology_category=frameworks<br>count=%{text}<br>technology=%{y}",
         "legendgroup": "frameworks",
         "marker": {
          "color": "#EF553B"
         },
         "name": "frameworks",
         "offsetgroup": "frameworks",
         "orientation": "h",
         "showlegend": true,
         "text": [
          1183,
          790,
          540,
          237,
          156,
          121,
          77,
          63,
          23,
          22,
          1
         ],
         "textposition": "auto",
         "type": "bar",
         "x": [
          1183,
          790,
          540,
          237,
          156,
          121,
          77,
          63,
          23,
          22,
          1
         ],
         "xaxis": "x",
         "y": [
          "react",
          "jquery",
          "angular",
          "vue.js",
          "asp",
          "laravel",
          "flask",
          "drupal",
          "express",
          "spring",
          "ruby on rails"
         ],
         "yaxis": "y"
        },
        {
         "alignmentgroup": "True",
         "hoverlabel": {
          "namelength": 0
         },
         "hovertemplate": "technology_category=others<br>count=%{text}<br>technology=%{y}",
         "legendgroup": "others",
         "marker": {
          "color": "#00cc96"
         },
         "name": "others",
         "offsetgroup": "others",
         "orientation": "h",
         "showlegend": true,
         "text": [
          1059,
          99,
          32,
          11,
          11
         ],
         "textposition": "auto",
         "type": "bar",
         "x": [
          1059,
          99,
          32,
          11,
          11
         ],
         "xaxis": "x",
         "y": [
          "node.js",
          "hadoop",
          "unreal engine",
          "puppet",
          "ansible"
         ],
         "yaxis": "y"
        },
        {
         "alignmentgroup": "True",
         "hoverlabel": {
          "namelength": 0
         },
         "hovertemplate": "technology_category=databases<br>count=%{text}<br>technology=%{y}",
         "legendgroup": "databases",
         "marker": {
          "color": "#ab63fa"
         },
         "name": "databases",
         "offsetgroup": "databases",
         "orientation": "h",
         "showlegend": true,
         "text": [
          578,
          291,
          126,
          67,
          29,
          20
         ],
         "textposition": "auto",
         "type": "bar",
         "x": [
          578,
          291,
          126,
          67,
          29,
          20
         ],
         "xaxis": "x",
         "y": [
          "mysql",
          "sql server",
          "elasticsearch",
          "postgresql",
          "oracle",
          "dynamodb"
         ],
         "yaxis": "y"
        },
        {
         "alignmentgroup": "True",
         "hoverlabel": {
          "namelength": 0
         },
         "hovertemplate": "technology_category=platforms<br>count=%{text}<br>technology=%{y}",
         "legendgroup": "platforms",
         "marker": {
          "color": "#FFA15A"
         },
         "name": "platforms",
         "offsetgroup": "platforms",
         "orientation": "h",
         "showlegend": true,
         "text": [
          430,
          386,
          356,
          315,
          292,
          190,
          148,
          125,
          26,
          14
         ],
         "textposition": "auto",
         "type": "bar",
         "x": [
          430,
          386,
          356,
          315,
          292,
          190,
          148,
          125,
          26,
          14
         ],
         "xaxis": "x",
         "y": [
          "android",
          "ios",
          "wordpress",
          "docker",
          "windows",
          "aws",
          "linux",
          "google cloud platform",
          "azure",
          "kubernetes"
         ],
         "yaxis": "y"
        }
       ],
       "layout": {
        "barmode": "relative",
        "height": 2000,
        "legend": {
         "title": {
          "text": "technology_category"
         },
         "tracegroupgap": 0
        },
        "margin": {
         "t": 60
        },
        "template": {
         "data": {
          "bar": [
           {
            "error_x": {
             "color": "#2a3f5f"
            },
            "error_y": {
             "color": "#2a3f5f"
            },
            "marker": {
             "line": {
              "color": "#E5ECF6",
              "width": 0.5
             }
            },
            "type": "bar"
           }
          ],
          "barpolar": [
           {
            "marker": {
             "line": {
              "color": "#E5ECF6",
              "width": 0.5
             }
            },
            "type": "barpolar"
           }
          ],
          "carpet": [
           {
            "aaxis": {
             "endlinecolor": "#2a3f5f",
             "gridcolor": "white",
             "linecolor": "white",
             "minorgridcolor": "white",
             "startlinecolor": "#2a3f5f"
            },
            "baxis": {
             "endlinecolor": "#2a3f5f",
             "gridcolor": "white",
             "linecolor": "white",
             "minorgridcolor": "white",
             "startlinecolor": "#2a3f5f"
            },
            "type": "carpet"
           }
          ],
          "choropleth": [
           {
            "colorbar": {
             "outlinewidth": 0,
             "ticks": ""
            },
            "type": "choropleth"
           }
          ],
          "contour": [
           {
            "colorbar": {
             "outlinewidth": 0,
             "ticks": ""
            },
            "colorscale": [
             [
              0,
              "#0d0887"
             ],
             [
              0.1111111111111111,
              "#46039f"
             ],
             [
              0.2222222222222222,
              "#7201a8"
             ],
             [
              0.3333333333333333,
              "#9c179e"
             ],
             [
              0.4444444444444444,
              "#bd3786"
             ],
             [
              0.5555555555555556,
              "#d8576b"
             ],
             [
              0.6666666666666666,
              "#ed7953"
             ],
             [
              0.7777777777777778,
              "#fb9f3a"
             ],
             [
              0.8888888888888888,
              "#fdca26"
             ],
             [
              1,
              "#f0f921"
             ]
            ],
            "type": "contour"
           }
          ],
          "contourcarpet": [
           {
            "colorbar": {
             "outlinewidth": 0,
             "ticks": ""
            },
            "type": "contourcarpet"
           }
          ],
          "heatmap": [
           {
            "colorbar": {
             "outlinewidth": 0,
             "ticks": ""
            },
            "colorscale": [
             [
              0,
              "#0d0887"
             ],
             [
              0.1111111111111111,
              "#46039f"
             ],
             [
              0.2222222222222222,
              "#7201a8"
             ],
             [
              0.3333333333333333,
              "#9c179e"
             ],
             [
              0.4444444444444444,
              "#bd3786"
             ],
             [
              0.5555555555555556,
              "#d8576b"
             ],
             [
              0.6666666666666666,
              "#ed7953"
             ],
             [
              0.7777777777777778,
              "#fb9f3a"
             ],
             [
              0.8888888888888888,
              "#fdca26"
             ],
             [
              1,
              "#f0f921"
             ]
            ],
            "type": "heatmap"
           }
          ],
          "heatmapgl": [
           {
            "colorbar": {
             "outlinewidth": 0,
             "ticks": ""
            },
            "colorscale": [
             [
              0,
              "#0d0887"
             ],
             [
              0.1111111111111111,
              "#46039f"
             ],
             [
              0.2222222222222222,
              "#7201a8"
             ],
             [
              0.3333333333333333,
              "#9c179e"
             ],
             [
              0.4444444444444444,
              "#bd3786"
             ],
             [
              0.5555555555555556,
              "#d8576b"
             ],
             [
              0.6666666666666666,
              "#ed7953"
             ],
             [
              0.7777777777777778,
              "#fb9f3a"
             ],
             [
              0.8888888888888888,
              "#fdca26"
             ],
             [
              1,
              "#f0f921"
             ]
            ],
            "type": "heatmapgl"
           }
          ],
          "histogram": [
           {
            "marker": {
             "colorbar": {
              "outlinewidth": 0,
              "ticks": ""
             }
            },
            "type": "histogram"
           }
          ],
          "histogram2d": [
           {
            "colorbar": {
             "outlinewidth": 0,
             "ticks": ""
            },
            "colorscale": [
             [
              0,
              "#0d0887"
             ],
             [
              0.1111111111111111,
              "#46039f"
             ],
             [
              0.2222222222222222,
              "#7201a8"
             ],
             [
              0.3333333333333333,
              "#9c179e"
             ],
             [
              0.4444444444444444,
              "#bd3786"
             ],
             [
              0.5555555555555556,
              "#d8576b"
             ],
             [
              0.6666666666666666,
              "#ed7953"
             ],
             [
              0.7777777777777778,
              "#fb9f3a"
             ],
             [
              0.8888888888888888,
              "#fdca26"
             ],
             [
              1,
              "#f0f921"
             ]
            ],
            "type": "histogram2d"
           }
          ],
          "histogram2dcontour": [
           {
            "colorbar": {
             "outlinewidth": 0,
             "ticks": ""
            },
            "colorscale": [
             [
              0,
              "#0d0887"
             ],
             [
              0.1111111111111111,
              "#46039f"
             ],
             [
              0.2222222222222222,
              "#7201a8"
             ],
             [
              0.3333333333333333,
              "#9c179e"
             ],
             [
              0.4444444444444444,
              "#bd3786"
             ],
             [
              0.5555555555555556,
              "#d8576b"
             ],
             [
              0.6666666666666666,
              "#ed7953"
             ],
             [
              0.7777777777777778,
              "#fb9f3a"
             ],
             [
              0.8888888888888888,
              "#fdca26"
             ],
             [
              1,
              "#f0f921"
             ]
            ],
            "type": "histogram2dcontour"
           }
          ],
          "mesh3d": [
           {
            "colorbar": {
             "outlinewidth": 0,
             "ticks": ""
            },
            "type": "mesh3d"
           }
          ],
          "parcoords": [
           {
            "line": {
             "colorbar": {
              "outlinewidth": 0,
              "ticks": ""
             }
            },
            "type": "parcoords"
           }
          ],
          "pie": [
           {
            "automargin": true,
            "type": "pie"
           }
          ],
          "scatter": [
           {
            "marker": {
             "colorbar": {
              "outlinewidth": 0,
              "ticks": ""
             }
            },
            "type": "scatter"
           }
          ],
          "scatter3d": [
           {
            "line": {
             "colorbar": {
              "outlinewidth": 0,
              "ticks": ""
             }
            },
            "marker": {
             "colorbar": {
              "outlinewidth": 0,
              "ticks": ""
             }
            },
            "type": "scatter3d"
           }
          ],
          "scattercarpet": [
           {
            "marker": {
             "colorbar": {
              "outlinewidth": 0,
              "ticks": ""
             }
            },
            "type": "scattercarpet"
           }
          ],
          "scattergeo": [
           {
            "marker": {
             "colorbar": {
              "outlinewidth": 0,
              "ticks": ""
             }
            },
            "type": "scattergeo"
           }
          ],
          "scattergl": [
           {
            "marker": {
             "colorbar": {
              "outlinewidth": 0,
              "ticks": ""
             }
            },
            "type": "scattergl"
           }
          ],
          "scattermapbox": [
           {
            "marker": {
             "colorbar": {
              "outlinewidth": 0,
              "ticks": ""
             }
            },
            "type": "scattermapbox"
           }
          ],
          "scatterpolar": [
           {
            "marker": {
             "colorbar": {
              "outlinewidth": 0,
              "ticks": ""
             }
            },
            "type": "scatterpolar"
           }
          ],
          "scatterpolargl": [
           {
            "marker": {
             "colorbar": {
              "outlinewidth": 0,
              "ticks": ""
             }
            },
            "type": "scatterpolargl"
           }
          ],
          "scatterternary": [
           {
            "marker": {
             "colorbar": {
              "outlinewidth": 0,
              "ticks": ""
             }
            },
            "type": "scatterternary"
           }
          ],
          "surface": [
           {
            "colorbar": {
             "outlinewidth": 0,
             "ticks": ""
            },
            "colorscale": [
             [
              0,
              "#0d0887"
             ],
             [
              0.1111111111111111,
              "#46039f"
             ],
             [
              0.2222222222222222,
              "#7201a8"
             ],
             [
              0.3333333333333333,
              "#9c179e"
             ],
             [
              0.4444444444444444,
              "#bd3786"
             ],
             [
              0.5555555555555556,
              "#d8576b"
             ],
             [
              0.6666666666666666,
              "#ed7953"
             ],
             [
              0.7777777777777778,
              "#fb9f3a"
             ],
             [
              0.8888888888888888,
              "#fdca26"
             ],
             [
              1,
              "#f0f921"
             ]
            ],
            "type": "surface"
           }
          ],
          "table": [
           {
            "cells": {
             "fill": {
              "color": "#EBF0F8"
             },
             "line": {
              "color": "white"
             }
            },
            "header": {
             "fill": {
              "color": "#C8D4E3"
             },
             "line": {
              "color": "white"
             }
            },
            "type": "table"
           }
          ]
         },
         "layout": {
          "annotationdefaults": {
           "arrowcolor": "#2a3f5f",
           "arrowhead": 0,
           "arrowwidth": 1
          },
          "coloraxis": {
           "colorbar": {
            "outlinewidth": 0,
            "ticks": ""
           }
          },
          "colorscale": {
           "diverging": [
            [
             0,
             "#8e0152"
            ],
            [
             0.1,
             "#c51b7d"
            ],
            [
             0.2,
             "#de77ae"
            ],
            [
             0.3,
             "#f1b6da"
            ],
            [
             0.4,
             "#fde0ef"
            ],
            [
             0.5,
             "#f7f7f7"
            ],
            [
             0.6,
             "#e6f5d0"
            ],
            [
             0.7,
             "#b8e186"
            ],
            [
             0.8,
             "#7fbc41"
            ],
            [
             0.9,
             "#4d9221"
            ],
            [
             1,
             "#276419"
            ]
           ],
           "sequential": [
            [
             0,
             "#0d0887"
            ],
            [
             0.1111111111111111,
             "#46039f"
            ],
            [
             0.2222222222222222,
             "#7201a8"
            ],
            [
             0.3333333333333333,
             "#9c179e"
            ],
            [
             0.4444444444444444,
             "#bd3786"
            ],
            [
             0.5555555555555556,
             "#d8576b"
            ],
            [
             0.6666666666666666,
             "#ed7953"
            ],
            [
             0.7777777777777778,
             "#fb9f3a"
            ],
            [
             0.8888888888888888,
             "#fdca26"
            ],
            [
             1,
             "#f0f921"
            ]
           ],
           "sequentialminus": [
            [
             0,
             "#0d0887"
            ],
            [
             0.1111111111111111,
             "#46039f"
            ],
            [
             0.2222222222222222,
             "#7201a8"
            ],
            [
             0.3333333333333333,
             "#9c179e"
            ],
            [
             0.4444444444444444,
             "#bd3786"
            ],
            [
             0.5555555555555556,
             "#d8576b"
            ],
            [
             0.6666666666666666,
             "#ed7953"
            ],
            [
             0.7777777777777778,
             "#fb9f3a"
            ],
            [
             0.8888888888888888,
             "#fdca26"
            ],
            [
             1,
             "#f0f921"
            ]
           ]
          },
          "colorway": [
           "#636efa",
           "#EF553B",
           "#00cc96",
           "#ab63fa",
           "#FFA15A",
           "#19d3f3",
           "#FF6692",
           "#B6E880",
           "#FF97FF",
           "#FECB52"
          ],
          "font": {
           "color": "#2a3f5f"
          },
          "geo": {
           "bgcolor": "white",
           "lakecolor": "white",
           "landcolor": "#E5ECF6",
           "showlakes": true,
           "showland": true,
           "subunitcolor": "white"
          },
          "hoverlabel": {
           "align": "left"
          },
          "hovermode": "closest",
          "mapbox": {
           "style": "light"
          },
          "paper_bgcolor": "white",
          "plot_bgcolor": "#E5ECF6",
          "polar": {
           "angularaxis": {
            "gridcolor": "white",
            "linecolor": "white",
            "ticks": ""
           },
           "bgcolor": "#E5ECF6",
           "radialaxis": {
            "gridcolor": "white",
            "linecolor": "white",
            "ticks": ""
           }
          },
          "scene": {
           "xaxis": {
            "backgroundcolor": "#E5ECF6",
            "gridcolor": "white",
            "gridwidth": 2,
            "linecolor": "white",
            "showbackground": true,
            "ticks": "",
            "zerolinecolor": "white"
           },
           "yaxis": {
            "backgroundcolor": "#E5ECF6",
            "gridcolor": "white",
            "gridwidth": 2,
            "linecolor": "white",
            "showbackground": true,
            "ticks": "",
            "zerolinecolor": "white"
           },
           "zaxis": {
            "backgroundcolor": "#E5ECF6",
            "gridcolor": "white",
            "gridwidth": 2,
            "linecolor": "white",
            "showbackground": true,
            "ticks": "",
            "zerolinecolor": "white"
           }
          },
          "shapedefaults": {
           "line": {
            "color": "#2a3f5f"
           }
          },
          "ternary": {
           "aaxis": {
            "gridcolor": "white",
            "linecolor": "white",
            "ticks": ""
           },
           "baxis": {
            "gridcolor": "white",
            "linecolor": "white",
            "ticks": ""
           },
           "bgcolor": "#E5ECF6",
           "caxis": {
            "gridcolor": "white",
            "linecolor": "white",
            "ticks": ""
           }
          },
          "title": {
           "x": 0.05
          },
          "xaxis": {
           "automargin": true,
           "gridcolor": "white",
           "linecolor": "white",
           "ticks": "",
           "title": {
            "standoff": 15
           },
           "zerolinecolor": "white",
           "zerolinewidth": 2
          },
          "yaxis": {
           "automargin": true,
           "gridcolor": "white",
           "linecolor": "white",
           "ticks": "",
           "title": {
            "standoff": 15
           },
           "zerolinecolor": "white",
           "zerolinewidth": 2
          }
         }
        },
        "width": 2000,
        "xaxis": {
         "anchor": "y",
         "domain": [
          0,
          1
         ],
         "title": {
          "text": "Number of vacancies mentioning"
         }
        },
        "yaxis": {
         "anchor": "x",
         "categoryorder": "total ascending",
         "domain": [
          0,
          1
         ],
         "title": {
          "text": "Technology"
         },
         "type": "category"
        }
       }
      }
     },
     "metadata": {}
    }
   ],
   "source": [
    "tech_counts = df[['languages', 'frameworks', 'platforms', 'databases', 'others']]\n",
    "tech_counts = (tech_counts.stack()\n",
    "                .explode()\\\n",
    "                .reset_index()\n",
    "                .groupby([\"level_1\", 0])\n",
    "                .count()\n",
    "                .reset_index())\n",
    "tech_counts.columns = \"technology_category\", \"technology\", \"count\"\n",
    "tech_counts = tech_counts.sort_values('count', ascending=False)\n",
    "\n",
    "fig = px.bar(\n",
    "    tech_counts,\n",
    "    y='technology',\n",
    "    x='count',\n",
    "    text='count',\n",
    "    orientation='h',\n",
    "    color='technology_category',\n",
    "    height=2000,\n",
    "    width=1500,\n",
    ")\n",
    "fig.update_yaxes(\n",
    "    type='category',\n",
    "    matches=None,\n",
    "    title_text='Technology'\n",
    ")\n",
    "fig.update_xaxes(\n",
    "    title_text='Number of vacancies mentioning'\n",
    ")\n",
    "fig.update_layout(yaxis={'categoryorder':'total ascending'})\n",
    "fig.for_each_annotation(lambda a: a.update(text=a.text.split(\"=\")[-1]))\n",
    "\n",
    "fig.show()"
   ]
  },
  {
   "cell_type": "code",
   "execution_count": 18,
   "metadata": {},
   "outputs": [],
   "source": [
    "tech_counts.to_csv('tech_counts.csv')"
   ]
  },
  {
   "cell_type": "code",
   "execution_count": null,
   "metadata": {},
   "outputs": [],
   "source": []
  }
 ],
 "metadata": {
  "file_extension": ".py",
  "kernelspec": {
   "display_name": "Python 3.7.7 64-bit ('jobscrapy': venv)",
   "language": "python",
   "name": "python37764bitjobscrapyvenvedc711bb3f664cd497b90f4ac7f19b0c"
  },
  "language_info": {
   "codemirror_mode": {
    "name": "ipython",
    "version": 3
   },
   "file_extension": ".py",
   "mimetype": "text/x-python",
   "name": "python",
   "nbconvert_exporter": "python",
   "pygments_lexer": "ipython3",
   "version": "3.7.7-final"
  },
  "mimetype": "text/x-python",
  "name": "python",
  "npconvert_exporter": "python",
  "pygments_lexer": "ipython3",
  "version": 3
 },
 "nbformat": 4,
 "nbformat_minor": 2
}